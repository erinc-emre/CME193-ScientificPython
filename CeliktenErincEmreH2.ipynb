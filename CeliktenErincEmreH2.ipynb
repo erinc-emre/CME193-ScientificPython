{
 "cells": [
  {
   "cell_type": "markdown",
   "metadata": {},
   "source": [
    "# Assignment 2\n",
    "\n",
    "#### Author: Erinc Emre Celikten - 20170808032\n",
    "\n",
    "#### Group Member: Burak Ercikti - 20180808082\n",
    "\n",
    "Due Date : May 20th, 11:59 PM\n",
    "\n",
    "In this assignment, you'll load and play with CO2 data collected at the [Mauna Loa observatory](https://en.wikipedia.org/wiki/Mauna_Loa_Observatory) over the last 60 years. We will also be using the [El Nino Index](https://origin.cpc.ncep.noaa.gov/products/analysis_monitoring/ensostuff/ONI_v5.php) dataset that records the temperature changes due to the [El Nino](https://en.wikipedia.org/wiki/El_Niño) effect. We will try to apply some of the methods we learnt in class on these datasets.\n",
    "\n",
    "Links for more information about the datset we are using\n",
    "* NOAA Website: https://www.esrl.noaa.gov/gmd/ccgg/trends/full.html\n",
    "* NOAA data: https://www.esrl.noaa.gov/gmd/ccgg/trends/data.html\n",
    "\n",
    "The monthly data can be found at this [link](ftp://aftp.cmdl.noaa.gov/products/trends/co2/co2_mm_mlo.txt)\n",
    "You can run the cells below to download the dataset.\n",
    "\n",
    "Note: For fill-in cells that mention a number of lines of code, it is just to indicate that it is possible in that many lines, do not worry if you use more lines than that. Use it as an enouragement to learn how to do it in fewer lines as that will introduce you to useful techniques. Plot saving commands and printing commands are not included in the count."
   ]
  },
  {
   "cell_type": "code",
   "execution_count": 1,
   "metadata": {},
   "outputs": [],
   "source": [
    "import pandas as pd\n",
    "import numpy as np\n",
    "import matplotlib.pyplot as plt"
   ]
  },
  {
   "cell_type": "code",
   "execution_count": 2,
   "metadata": {},
   "outputs": [],
   "source": [
    "df = pd.read_csv('http://web.stanford.edu/class/cme193/uploads/co2_mm_mlo.txt', \n",
    "                  delim_whitespace=True, \n",
    "                  comment='#',\n",
    "                  names=[\"year\", \"month\", \"decdate\", \"co2\", \"co2interp\", \"trend\", \"days\"])\n",
    "\n",
    "pd.set_option('display.max_rows', 10)"
   ]
  },
  {
   "cell_type": "markdown",
   "metadata": {},
   "source": [
    "## Question 1 - Clean the data\n",
    "\n",
    "The dataframe currently contains columns called `year` and `month`. The goal is to introduce a new column called `date` that combines the year and month into one column. To do this, we will use a Pandas built-in function called `pd.to_datetime`, which accepts as its first argument a dataframe with three columns, `month`, `day`, and `year`, and outputs a dataframe with a single column corresponding to the date. \n",
    "\n",
    "First, create a column called `day` in the dataframe `df`, and set it equal to `1` for all rows. (This is so that, for example, the row with year 1958 and month 3 will be treated as March 1, 1958.)"
   ]
  },
  {
   "cell_type": "code",
   "execution_count": 3,
   "metadata": {},
   "outputs": [
    {
     "data": {
      "text/html": [
       "<div>\n",
       "<style scoped>\n",
       "    .dataframe tbody tr th:only-of-type {\n",
       "        vertical-align: middle;\n",
       "    }\n",
       "\n",
       "    .dataframe tbody tr th {\n",
       "        vertical-align: top;\n",
       "    }\n",
       "\n",
       "    .dataframe thead th {\n",
       "        text-align: right;\n",
       "    }\n",
       "</style>\n",
       "<table border=\"1\" class=\"dataframe\">\n",
       "  <thead>\n",
       "    <tr style=\"text-align: right;\">\n",
       "      <th></th>\n",
       "      <th>year</th>\n",
       "      <th>month</th>\n",
       "      <th>decdate</th>\n",
       "      <th>co2</th>\n",
       "      <th>co2interp</th>\n",
       "      <th>trend</th>\n",
       "      <th>days</th>\n",
       "      <th>day</th>\n",
       "    </tr>\n",
       "  </thead>\n",
       "  <tbody>\n",
       "    <tr>\n",
       "      <th>0</th>\n",
       "      <td>1958</td>\n",
       "      <td>3</td>\n",
       "      <td>1958.208</td>\n",
       "      <td>315.71</td>\n",
       "      <td>315.71</td>\n",
       "      <td>314.62</td>\n",
       "      <td>-1</td>\n",
       "      <td>1</td>\n",
       "    </tr>\n",
       "    <tr>\n",
       "      <th>1</th>\n",
       "      <td>1958</td>\n",
       "      <td>4</td>\n",
       "      <td>1958.292</td>\n",
       "      <td>317.45</td>\n",
       "      <td>317.45</td>\n",
       "      <td>315.29</td>\n",
       "      <td>-1</td>\n",
       "      <td>1</td>\n",
       "    </tr>\n",
       "    <tr>\n",
       "      <th>2</th>\n",
       "      <td>1958</td>\n",
       "      <td>5</td>\n",
       "      <td>1958.375</td>\n",
       "      <td>317.50</td>\n",
       "      <td>317.50</td>\n",
       "      <td>314.71</td>\n",
       "      <td>-1</td>\n",
       "      <td>1</td>\n",
       "    </tr>\n",
       "    <tr>\n",
       "      <th>3</th>\n",
       "      <td>1958</td>\n",
       "      <td>6</td>\n",
       "      <td>1958.458</td>\n",
       "      <td>-99.99</td>\n",
       "      <td>317.10</td>\n",
       "      <td>314.85</td>\n",
       "      <td>-1</td>\n",
       "      <td>1</td>\n",
       "    </tr>\n",
       "    <tr>\n",
       "      <th>4</th>\n",
       "      <td>1958</td>\n",
       "      <td>7</td>\n",
       "      <td>1958.542</td>\n",
       "      <td>315.86</td>\n",
       "      <td>315.86</td>\n",
       "      <td>314.98</td>\n",
       "      <td>-1</td>\n",
       "      <td>1</td>\n",
       "    </tr>\n",
       "    <tr>\n",
       "      <th>...</th>\n",
       "      <td>...</td>\n",
       "      <td>...</td>\n",
       "      <td>...</td>\n",
       "      <td>...</td>\n",
       "      <td>...</td>\n",
       "      <td>...</td>\n",
       "      <td>...</td>\n",
       "      <td>...</td>\n",
       "    </tr>\n",
       "    <tr>\n",
       "      <th>740</th>\n",
       "      <td>2019</td>\n",
       "      <td>11</td>\n",
       "      <td>2019.875</td>\n",
       "      <td>410.27</td>\n",
       "      <td>410.27</td>\n",
       "      <td>412.27</td>\n",
       "      <td>25</td>\n",
       "      <td>1</td>\n",
       "    </tr>\n",
       "    <tr>\n",
       "      <th>741</th>\n",
       "      <td>2019</td>\n",
       "      <td>12</td>\n",
       "      <td>2019.958</td>\n",
       "      <td>411.76</td>\n",
       "      <td>411.76</td>\n",
       "      <td>412.44</td>\n",
       "      <td>31</td>\n",
       "      <td>1</td>\n",
       "    </tr>\n",
       "    <tr>\n",
       "      <th>742</th>\n",
       "      <td>2020</td>\n",
       "      <td>1</td>\n",
       "      <td>2020.042</td>\n",
       "      <td>413.40</td>\n",
       "      <td>413.40</td>\n",
       "      <td>413.08</td>\n",
       "      <td>29</td>\n",
       "      <td>1</td>\n",
       "    </tr>\n",
       "    <tr>\n",
       "      <th>743</th>\n",
       "      <td>2020</td>\n",
       "      <td>2</td>\n",
       "      <td>2020.125</td>\n",
       "      <td>414.11</td>\n",
       "      <td>414.11</td>\n",
       "      <td>413.26</td>\n",
       "      <td>28</td>\n",
       "      <td>1</td>\n",
       "    </tr>\n",
       "    <tr>\n",
       "      <th>744</th>\n",
       "      <td>2020</td>\n",
       "      <td>3</td>\n",
       "      <td>2020.208</td>\n",
       "      <td>414.50</td>\n",
       "      <td>414.50</td>\n",
       "      <td>413.03</td>\n",
       "      <td>26</td>\n",
       "      <td>1</td>\n",
       "    </tr>\n",
       "  </tbody>\n",
       "</table>\n",
       "<p>745 rows × 8 columns</p>\n",
       "</div>"
      ],
      "text/plain": [
       "     year  month   decdate     co2  co2interp   trend  days  day\n",
       "0    1958      3  1958.208  315.71     315.71  314.62    -1    1\n",
       "1    1958      4  1958.292  317.45     317.45  315.29    -1    1\n",
       "2    1958      5  1958.375  317.50     317.50  314.71    -1    1\n",
       "3    1958      6  1958.458  -99.99     317.10  314.85    -1    1\n",
       "4    1958      7  1958.542  315.86     315.86  314.98    -1    1\n",
       "..    ...    ...       ...     ...        ...     ...   ...  ...\n",
       "740  2019     11  2019.875  410.27     410.27  412.27    25    1\n",
       "741  2019     12  2019.958  411.76     411.76  412.44    31    1\n",
       "742  2020      1  2020.042  413.40     413.40  413.08    29    1\n",
       "743  2020      2  2020.125  414.11     414.11  413.26    28    1\n",
       "744  2020      3  2020.208  414.50     414.50  413.03    26    1\n",
       "\n",
       "[745 rows x 8 columns]"
      ]
     },
     "execution_count": 3,
     "metadata": {},
     "output_type": "execute_result"
    }
   ],
   "source": [
    "df['day'] = 1\n",
    "df"
   ]
  },
  {
   "cell_type": "markdown",
   "metadata": {},
   "source": [
    "Next, select the three columns `month`, `day`, and `year` from `df` and pass the resulting three-column dataframe to `pd.to_datetime`. Create a new column `date` in `df` and set it equal to the output of `pd.to_datetime` to create a new column corresponding to the date."
   ]
  },
  {
   "cell_type": "code",
   "execution_count": 4,
   "metadata": {},
   "outputs": [
    {
     "data": {
      "text/html": [
       "<div>\n",
       "<style scoped>\n",
       "    .dataframe tbody tr th:only-of-type {\n",
       "        vertical-align: middle;\n",
       "    }\n",
       "\n",
       "    .dataframe tbody tr th {\n",
       "        vertical-align: top;\n",
       "    }\n",
       "\n",
       "    .dataframe thead th {\n",
       "        text-align: right;\n",
       "    }\n",
       "</style>\n",
       "<table border=\"1\" class=\"dataframe\">\n",
       "  <thead>\n",
       "    <tr style=\"text-align: right;\">\n",
       "      <th></th>\n",
       "      <th>year</th>\n",
       "      <th>month</th>\n",
       "      <th>decdate</th>\n",
       "      <th>co2</th>\n",
       "      <th>co2interp</th>\n",
       "      <th>trend</th>\n",
       "      <th>days</th>\n",
       "      <th>day</th>\n",
       "      <th>date</th>\n",
       "    </tr>\n",
       "  </thead>\n",
       "  <tbody>\n",
       "    <tr>\n",
       "      <th>0</th>\n",
       "      <td>1958</td>\n",
       "      <td>3</td>\n",
       "      <td>1958.208</td>\n",
       "      <td>315.71</td>\n",
       "      <td>315.71</td>\n",
       "      <td>314.62</td>\n",
       "      <td>-1</td>\n",
       "      <td>1</td>\n",
       "      <td>1958-03-01</td>\n",
       "    </tr>\n",
       "    <tr>\n",
       "      <th>1</th>\n",
       "      <td>1958</td>\n",
       "      <td>4</td>\n",
       "      <td>1958.292</td>\n",
       "      <td>317.45</td>\n",
       "      <td>317.45</td>\n",
       "      <td>315.29</td>\n",
       "      <td>-1</td>\n",
       "      <td>1</td>\n",
       "      <td>1958-04-01</td>\n",
       "    </tr>\n",
       "    <tr>\n",
       "      <th>2</th>\n",
       "      <td>1958</td>\n",
       "      <td>5</td>\n",
       "      <td>1958.375</td>\n",
       "      <td>317.50</td>\n",
       "      <td>317.50</td>\n",
       "      <td>314.71</td>\n",
       "      <td>-1</td>\n",
       "      <td>1</td>\n",
       "      <td>1958-05-01</td>\n",
       "    </tr>\n",
       "    <tr>\n",
       "      <th>3</th>\n",
       "      <td>1958</td>\n",
       "      <td>6</td>\n",
       "      <td>1958.458</td>\n",
       "      <td>-99.99</td>\n",
       "      <td>317.10</td>\n",
       "      <td>314.85</td>\n",
       "      <td>-1</td>\n",
       "      <td>1</td>\n",
       "      <td>1958-06-01</td>\n",
       "    </tr>\n",
       "    <tr>\n",
       "      <th>4</th>\n",
       "      <td>1958</td>\n",
       "      <td>7</td>\n",
       "      <td>1958.542</td>\n",
       "      <td>315.86</td>\n",
       "      <td>315.86</td>\n",
       "      <td>314.98</td>\n",
       "      <td>-1</td>\n",
       "      <td>1</td>\n",
       "      <td>1958-07-01</td>\n",
       "    </tr>\n",
       "    <tr>\n",
       "      <th>...</th>\n",
       "      <td>...</td>\n",
       "      <td>...</td>\n",
       "      <td>...</td>\n",
       "      <td>...</td>\n",
       "      <td>...</td>\n",
       "      <td>...</td>\n",
       "      <td>...</td>\n",
       "      <td>...</td>\n",
       "      <td>...</td>\n",
       "    </tr>\n",
       "    <tr>\n",
       "      <th>740</th>\n",
       "      <td>2019</td>\n",
       "      <td>11</td>\n",
       "      <td>2019.875</td>\n",
       "      <td>410.27</td>\n",
       "      <td>410.27</td>\n",
       "      <td>412.27</td>\n",
       "      <td>25</td>\n",
       "      <td>1</td>\n",
       "      <td>2019-11-01</td>\n",
       "    </tr>\n",
       "    <tr>\n",
       "      <th>741</th>\n",
       "      <td>2019</td>\n",
       "      <td>12</td>\n",
       "      <td>2019.958</td>\n",
       "      <td>411.76</td>\n",
       "      <td>411.76</td>\n",
       "      <td>412.44</td>\n",
       "      <td>31</td>\n",
       "      <td>1</td>\n",
       "      <td>2019-12-01</td>\n",
       "    </tr>\n",
       "    <tr>\n",
       "      <th>742</th>\n",
       "      <td>2020</td>\n",
       "      <td>1</td>\n",
       "      <td>2020.042</td>\n",
       "      <td>413.40</td>\n",
       "      <td>413.40</td>\n",
       "      <td>413.08</td>\n",
       "      <td>29</td>\n",
       "      <td>1</td>\n",
       "      <td>2020-01-01</td>\n",
       "    </tr>\n",
       "    <tr>\n",
       "      <th>743</th>\n",
       "      <td>2020</td>\n",
       "      <td>2</td>\n",
       "      <td>2020.125</td>\n",
       "      <td>414.11</td>\n",
       "      <td>414.11</td>\n",
       "      <td>413.26</td>\n",
       "      <td>28</td>\n",
       "      <td>1</td>\n",
       "      <td>2020-02-01</td>\n",
       "    </tr>\n",
       "    <tr>\n",
       "      <th>744</th>\n",
       "      <td>2020</td>\n",
       "      <td>3</td>\n",
       "      <td>2020.208</td>\n",
       "      <td>414.50</td>\n",
       "      <td>414.50</td>\n",
       "      <td>413.03</td>\n",
       "      <td>26</td>\n",
       "      <td>1</td>\n",
       "      <td>2020-03-01</td>\n",
       "    </tr>\n",
       "  </tbody>\n",
       "</table>\n",
       "<p>745 rows × 9 columns</p>\n",
       "</div>"
      ],
      "text/plain": [
       "     year  month   decdate     co2  co2interp   trend  days  day       date\n",
       "0    1958      3  1958.208  315.71     315.71  314.62    -1    1 1958-03-01\n",
       "1    1958      4  1958.292  317.45     317.45  315.29    -1    1 1958-04-01\n",
       "2    1958      5  1958.375  317.50     317.50  314.71    -1    1 1958-05-01\n",
       "3    1958      6  1958.458  -99.99     317.10  314.85    -1    1 1958-06-01\n",
       "4    1958      7  1958.542  315.86     315.86  314.98    -1    1 1958-07-01\n",
       "..    ...    ...       ...     ...        ...     ...   ...  ...        ...\n",
       "740  2019     11  2019.875  410.27     410.27  412.27    25    1 2019-11-01\n",
       "741  2019     12  2019.958  411.76     411.76  412.44    31    1 2019-12-01\n",
       "742  2020      1  2020.042  413.40     413.40  413.08    29    1 2020-01-01\n",
       "743  2020      2  2020.125  414.11     414.11  413.26    28    1 2020-02-01\n",
       "744  2020      3  2020.208  414.50     414.50  413.03    26    1 2020-03-01\n",
       "\n",
       "[745 rows x 9 columns]"
      ]
     },
     "execution_count": 4,
     "metadata": {},
     "output_type": "execute_result"
    }
   ],
   "source": [
    "df['date'] = pd.to_datetime(df[['month', 'day', 'year']])\n",
    "df"
   ]
  },
  {
   "cell_type": "markdown",
   "metadata": {},
   "source": [
    "From this point onward, we only care about the columns `date`, `co2`, and `trend`. Select only these columns and discard everything else."
   ]
  },
  {
   "cell_type": "code",
   "execution_count": 5,
   "metadata": {},
   "outputs": [
    {
     "data": {
      "text/html": [
       "<div>\n",
       "<style scoped>\n",
       "    .dataframe tbody tr th:only-of-type {\n",
       "        vertical-align: middle;\n",
       "    }\n",
       "\n",
       "    .dataframe tbody tr th {\n",
       "        vertical-align: top;\n",
       "    }\n",
       "\n",
       "    .dataframe thead th {\n",
       "        text-align: right;\n",
       "    }\n",
       "</style>\n",
       "<table border=\"1\" class=\"dataframe\">\n",
       "  <thead>\n",
       "    <tr style=\"text-align: right;\">\n",
       "      <th></th>\n",
       "      <th>date</th>\n",
       "      <th>co2</th>\n",
       "      <th>trend</th>\n",
       "    </tr>\n",
       "  </thead>\n",
       "  <tbody>\n",
       "    <tr>\n",
       "      <th>0</th>\n",
       "      <td>1958-03-01</td>\n",
       "      <td>315.71</td>\n",
       "      <td>314.62</td>\n",
       "    </tr>\n",
       "    <tr>\n",
       "      <th>1</th>\n",
       "      <td>1958-04-01</td>\n",
       "      <td>317.45</td>\n",
       "      <td>315.29</td>\n",
       "    </tr>\n",
       "    <tr>\n",
       "      <th>2</th>\n",
       "      <td>1958-05-01</td>\n",
       "      <td>317.50</td>\n",
       "      <td>314.71</td>\n",
       "    </tr>\n",
       "    <tr>\n",
       "      <th>3</th>\n",
       "      <td>1958-06-01</td>\n",
       "      <td>-99.99</td>\n",
       "      <td>314.85</td>\n",
       "    </tr>\n",
       "    <tr>\n",
       "      <th>4</th>\n",
       "      <td>1958-07-01</td>\n",
       "      <td>315.86</td>\n",
       "      <td>314.98</td>\n",
       "    </tr>\n",
       "    <tr>\n",
       "      <th>...</th>\n",
       "      <td>...</td>\n",
       "      <td>...</td>\n",
       "      <td>...</td>\n",
       "    </tr>\n",
       "    <tr>\n",
       "      <th>740</th>\n",
       "      <td>2019-11-01</td>\n",
       "      <td>410.27</td>\n",
       "      <td>412.27</td>\n",
       "    </tr>\n",
       "    <tr>\n",
       "      <th>741</th>\n",
       "      <td>2019-12-01</td>\n",
       "      <td>411.76</td>\n",
       "      <td>412.44</td>\n",
       "    </tr>\n",
       "    <tr>\n",
       "      <th>742</th>\n",
       "      <td>2020-01-01</td>\n",
       "      <td>413.40</td>\n",
       "      <td>413.08</td>\n",
       "    </tr>\n",
       "    <tr>\n",
       "      <th>743</th>\n",
       "      <td>2020-02-01</td>\n",
       "      <td>414.11</td>\n",
       "      <td>413.26</td>\n",
       "    </tr>\n",
       "    <tr>\n",
       "      <th>744</th>\n",
       "      <td>2020-03-01</td>\n",
       "      <td>414.50</td>\n",
       "      <td>413.03</td>\n",
       "    </tr>\n",
       "  </tbody>\n",
       "</table>\n",
       "<p>745 rows × 3 columns</p>\n",
       "</div>"
      ],
      "text/plain": [
       "          date     co2   trend\n",
       "0   1958-03-01  315.71  314.62\n",
       "1   1958-04-01  317.45  315.29\n",
       "2   1958-05-01  317.50  314.71\n",
       "3   1958-06-01  -99.99  314.85\n",
       "4   1958-07-01  315.86  314.98\n",
       "..         ...     ...     ...\n",
       "740 2019-11-01  410.27  412.27\n",
       "741 2019-12-01  411.76  412.44\n",
       "742 2020-01-01  413.40  413.08\n",
       "743 2020-02-01  414.11  413.26\n",
       "744 2020-03-01  414.50  413.03\n",
       "\n",
       "[745 rows x 3 columns]"
      ]
     },
     "execution_count": 5,
     "metadata": {},
     "output_type": "execute_result"
    }
   ],
   "source": [
    "df = df[[\"date\", \"co2\", \"trend\"]]\n",
    "df\n"
   ]
  },
  {
   "cell_type": "markdown",
   "metadata": {},
   "source": [
    "Set the index to `date` (use `df.set_index` and overwrite `df` with the return value)."
   ]
  },
  {
   "cell_type": "code",
   "execution_count": 6,
   "metadata": {},
   "outputs": [
    {
     "data": {
      "text/html": [
       "<div>\n",
       "<style scoped>\n",
       "    .dataframe tbody tr th:only-of-type {\n",
       "        vertical-align: middle;\n",
       "    }\n",
       "\n",
       "    .dataframe tbody tr th {\n",
       "        vertical-align: top;\n",
       "    }\n",
       "\n",
       "    .dataframe thead th {\n",
       "        text-align: right;\n",
       "    }\n",
       "</style>\n",
       "<table border=\"1\" class=\"dataframe\">\n",
       "  <thead>\n",
       "    <tr style=\"text-align: right;\">\n",
       "      <th></th>\n",
       "      <th>co2</th>\n",
       "      <th>trend</th>\n",
       "    </tr>\n",
       "    <tr>\n",
       "      <th>date</th>\n",
       "      <th></th>\n",
       "      <th></th>\n",
       "    </tr>\n",
       "  </thead>\n",
       "  <tbody>\n",
       "    <tr>\n",
       "      <th>1958-03-01</th>\n",
       "      <td>315.71</td>\n",
       "      <td>314.62</td>\n",
       "    </tr>\n",
       "    <tr>\n",
       "      <th>1958-04-01</th>\n",
       "      <td>317.45</td>\n",
       "      <td>315.29</td>\n",
       "    </tr>\n",
       "    <tr>\n",
       "      <th>1958-05-01</th>\n",
       "      <td>317.50</td>\n",
       "      <td>314.71</td>\n",
       "    </tr>\n",
       "    <tr>\n",
       "      <th>1958-06-01</th>\n",
       "      <td>-99.99</td>\n",
       "      <td>314.85</td>\n",
       "    </tr>\n",
       "    <tr>\n",
       "      <th>1958-07-01</th>\n",
       "      <td>315.86</td>\n",
       "      <td>314.98</td>\n",
       "    </tr>\n",
       "  </tbody>\n",
       "</table>\n",
       "</div>"
      ],
      "text/plain": [
       "               co2   trend\n",
       "date                      \n",
       "1958-03-01  315.71  314.62\n",
       "1958-04-01  317.45  315.29\n",
       "1958-05-01  317.50  314.71\n",
       "1958-06-01  -99.99  314.85\n",
       "1958-07-01  315.86  314.98"
      ]
     },
     "execution_count": 6,
     "metadata": {},
     "output_type": "execute_result"
    }
   ],
   "source": [
    "df.set_index('date', inplace=True)\n",
    "df.head()"
   ]
  },
  {
   "cell_type": "markdown",
   "metadata": {},
   "source": [
    "Plot the data by using `df.plot()`. What do you notice?"
   ]
  },
  {
   "cell_type": "code",
   "execution_count": 7,
   "metadata": {},
   "outputs": [
    {
     "data": {
      "text/plain": [
       "<AxesSubplot:xlabel='date'>"
      ]
     },
     "execution_count": 7,
     "metadata": {},
     "output_type": "execute_result"
    },
    {
     "data": {
      "image/png": "[encoded data removed]",
      "text/plain": [
       "<Figure size 432x288 with 1 Axes>"
      ]
     },
     "metadata": {
      "needs_background": "light"
     },
     "output_type": "display_data"
    }
   ],
   "source": [
    "df.plot()\n",
    "# there are some abnormal values in the co2 data"
   ]
  },
  {
   "cell_type": "markdown",
   "metadata": {},
   "source": [
    "The dataset uses -99.99 in the `co2` column to denote missing data. Set these values to `None` instead."
   ]
  },
  {
   "cell_type": "code",
   "execution_count": 8,
   "metadata": {},
   "outputs": [
    {
     "name": "stderr",
     "output_type": "stream",
     "text": [
      "/tmp/ipykernel_431764/2806969863.py:1: SettingWithCopyWarning: \n",
      "A value is trying to be set on a copy of a slice from a DataFrame.\n",
      "Try using .loc[row_indexer,col_indexer] = value instead\n",
      "\n",
      "See the caveats in the documentation: https://pandas.pydata.org/pandas-docs/stable/user_guide/indexing.html#returning-a-view-versus-a-copy\n",
      "  df['co2'] = df['co2'].replace(-99.99, None)\n"
     ]
    },
    {
     "data": {
      "text/html": [
       "<div>\n",
       "<style scoped>\n",
       "    .dataframe tbody tr th:only-of-type {\n",
       "        vertical-align: middle;\n",
       "    }\n",
       "\n",
       "    .dataframe tbody tr th {\n",
       "        vertical-align: top;\n",
       "    }\n",
       "\n",
       "    .dataframe thead th {\n",
       "        text-align: right;\n",
       "    }\n",
       "</style>\n",
       "<table border=\"1\" class=\"dataframe\">\n",
       "  <thead>\n",
       "    <tr style=\"text-align: right;\">\n",
       "      <th></th>\n",
       "      <th>co2</th>\n",
       "      <th>trend</th>\n",
       "    </tr>\n",
       "    <tr>\n",
       "      <th>date</th>\n",
       "      <th></th>\n",
       "      <th></th>\n",
       "    </tr>\n",
       "  </thead>\n",
       "  <tbody>\n",
       "    <tr>\n",
       "      <th>1958-03-01</th>\n",
       "      <td>315.71</td>\n",
       "      <td>314.62</td>\n",
       "    </tr>\n",
       "    <tr>\n",
       "      <th>1958-04-01</th>\n",
       "      <td>317.45</td>\n",
       "      <td>315.29</td>\n",
       "    </tr>\n",
       "    <tr>\n",
       "      <th>1958-05-01</th>\n",
       "      <td>317.5</td>\n",
       "      <td>314.71</td>\n",
       "    </tr>\n",
       "    <tr>\n",
       "      <th>1958-06-01</th>\n",
       "      <td>None</td>\n",
       "      <td>314.85</td>\n",
       "    </tr>\n",
       "    <tr>\n",
       "      <th>1958-07-01</th>\n",
       "      <td>315.86</td>\n",
       "      <td>314.98</td>\n",
       "    </tr>\n",
       "  </tbody>\n",
       "</table>\n",
       "</div>"
      ],
      "text/plain": [
       "               co2   trend\n",
       "date                      \n",
       "1958-03-01  315.71  314.62\n",
       "1958-04-01  317.45  315.29\n",
       "1958-05-01   317.5  314.71\n",
       "1958-06-01    None  314.85\n",
       "1958-07-01  315.86  314.98"
      ]
     },
     "execution_count": 8,
     "metadata": {},
     "output_type": "execute_result"
    }
   ],
   "source": [
    "df['co2'] = df['co2'].replace(-99.99, None)\n",
    "df.head()"
   ]
  },
  {
   "cell_type": "markdown",
   "metadata": {},
   "source": [
    "Now, use the [`Series.interpolate()`](https://pandas.pydata.org/pandas-docs/stable/reference/api/pandas.Series.interpolate.html) function to fill in the missing data. Look at the example in the documentation to see how it works."
   ]
  },
  {
   "cell_type": "code",
   "execution_count": 9,
   "metadata": {},
   "outputs": [
    {
     "name": "stderr",
     "output_type": "stream",
     "text": [
      "/tmp/ipykernel_431764/343140237.py:1: SettingWithCopyWarning: \n",
      "A value is trying to be set on a copy of a slice from a DataFrame\n",
      "\n",
      "See the caveats in the documentation: https://pandas.pydata.org/pandas-docs/stable/user_guide/indexing.html#returning-a-view-versus-a-copy\n",
      "  df.interpolate(inplace=True)\n"
     ]
    },
    {
     "data": {
      "text/html": [
       "<div>\n",
       "<style scoped>\n",
       "    .dataframe tbody tr th:only-of-type {\n",
       "        vertical-align: middle;\n",
       "    }\n",
       "\n",
       "    .dataframe tbody tr th {\n",
       "        vertical-align: top;\n",
       "    }\n",
       "\n",
       "    .dataframe thead th {\n",
       "        text-align: right;\n",
       "    }\n",
       "</style>\n",
       "<table border=\"1\" class=\"dataframe\">\n",
       "  <thead>\n",
       "    <tr style=\"text-align: right;\">\n",
       "      <th></th>\n",
       "      <th>co2</th>\n",
       "      <th>trend</th>\n",
       "    </tr>\n",
       "    <tr>\n",
       "      <th>date</th>\n",
       "      <th></th>\n",
       "      <th></th>\n",
       "    </tr>\n",
       "  </thead>\n",
       "  <tbody>\n",
       "    <tr>\n",
       "      <th>1958-03-01</th>\n",
       "      <td>315.71</td>\n",
       "      <td>314.62</td>\n",
       "    </tr>\n",
       "    <tr>\n",
       "      <th>1958-04-01</th>\n",
       "      <td>317.45</td>\n",
       "      <td>315.29</td>\n",
       "    </tr>\n",
       "    <tr>\n",
       "      <th>1958-05-01</th>\n",
       "      <td>317.5</td>\n",
       "      <td>314.71</td>\n",
       "    </tr>\n",
       "    <tr>\n",
       "      <th>1958-06-01</th>\n",
       "      <td>None</td>\n",
       "      <td>314.85</td>\n",
       "    </tr>\n",
       "    <tr>\n",
       "      <th>1958-07-01</th>\n",
       "      <td>315.86</td>\n",
       "      <td>314.98</td>\n",
       "    </tr>\n",
       "  </tbody>\n",
       "</table>\n",
       "</div>"
      ],
      "text/plain": [
       "               co2   trend\n",
       "date                      \n",
       "1958-03-01  315.71  314.62\n",
       "1958-04-01  317.45  315.29\n",
       "1958-05-01   317.5  314.71\n",
       "1958-06-01    None  314.85\n",
       "1958-07-01  315.86  314.98"
      ]
     },
     "execution_count": 9,
     "metadata": {},
     "output_type": "execute_result"
    }
   ],
   "source": [
    "df.interpolate(inplace=True)\n",
    "df.head()"
   ]
  },
  {
   "cell_type": "markdown",
   "metadata": {},
   "source": [
    "Plot the data again (`df.plot()`). Is the problem solved?"
   ]
  },
  {
   "cell_type": "code",
   "execution_count": 10,
   "metadata": {},
   "outputs": [
    {
     "data": {
      "image/png": "[encoded data removed]",
      "text/plain": [
       "<Figure size 432x288 with 1 Axes>"
      ]
     },
     "metadata": {
      "needs_background": "light"
     },
     "output_type": "display_data"
    }
   ],
   "source": [
    "df.plot()\n",
    "# yes it is solved\n",
    "\n",
    "plt.savefig('qsn1')\n"
   ]
  },
  {
   "cell_type": "markdown",
   "metadata": {},
   "source": [
    "Save the above plot as `qsn1.png`.\n",
    "\n",
    "Now plot only the data since 2008 (by selecting only the rows after 2008). You can slice based only on the year as follows `df['2008':]` You should be able to see the seasonal variation more clearly."
   ]
  },
  {
   "cell_type": "code",
   "execution_count": 11,
   "metadata": {},
   "outputs": [
    {
     "data": {
      "text/plain": [
       "<AxesSubplot:xlabel='date'>"
      ]
     },
     "execution_count": 11,
     "metadata": {},
     "output_type": "execute_result"
    },
    {
     "data": {
      "image/png": "[encoded data removed]",
      "text/plain": [
       "<Figure size 432x288 with 1 Axes>"
      ]
     },
     "metadata": {
      "needs_background": "light"
     },
     "output_type": "display_data"
    }
   ],
   "source": [
    "df['2008':].plot()"
   ]
  },
  {
   "cell_type": "markdown",
   "metadata": {},
   "source": [
    "## Question 2 - Fit a curve\n",
    "\n",
    "Next we want to fit the data with a curve of specific functional form. Before we do that we need the time in some numeric format so that we can calculate functions on it.\n",
    "\n",
    "Create a column called `float_time` to represent the floating point value of the year. As an example 1st July 2009 will be 2009.5 , as it represents the middle of the year. To do this use `df.index.month` and `df.index.year` to create the formula that represents time as a decimal number of years."
   ]
  },
  {
   "cell_type": "code",
   "execution_count": 12,
   "metadata": {},
   "outputs": [
    {
     "name": "stderr",
     "output_type": "stream",
     "text": [
      "/tmp/ipykernel_431764/1167288587.py:1: SettingWithCopyWarning: \n",
      "A value is trying to be set on a copy of a slice from a DataFrame.\n",
      "Try using .loc[row_indexer,col_indexer] = value instead\n",
      "\n",
      "See the caveats in the documentation: https://pandas.pydata.org/pandas-docs/stable/user_guide/indexing.html#returning-a-view-versus-a-copy\n",
      "  df['float_time'] = df.index.year + (df.index.month - 1) / 12\n"
     ]
    },
    {
     "data": {
      "text/html": [
       "<div>\n",
       "<style scoped>\n",
       "    .dataframe tbody tr th:only-of-type {\n",
       "        vertical-align: middle;\n",
       "    }\n",
       "\n",
       "    .dataframe tbody tr th {\n",
       "        vertical-align: top;\n",
       "    }\n",
       "\n",
       "    .dataframe thead th {\n",
       "        text-align: right;\n",
       "    }\n",
       "</style>\n",
       "<table border=\"1\" class=\"dataframe\">\n",
       "  <thead>\n",
       "    <tr style=\"text-align: right;\">\n",
       "      <th></th>\n",
       "      <th>co2</th>\n",
       "      <th>trend</th>\n",
       "      <th>float_time</th>\n",
       "    </tr>\n",
       "    <tr>\n",
       "      <th>date</th>\n",
       "      <th></th>\n",
       "      <th></th>\n",
       "      <th></th>\n",
       "    </tr>\n",
       "  </thead>\n",
       "  <tbody>\n",
       "    <tr>\n",
       "      <th>1958-03-01</th>\n",
       "      <td>315.71</td>\n",
       "      <td>314.62</td>\n",
       "      <td>1958.166667</td>\n",
       "    </tr>\n",
       "    <tr>\n",
       "      <th>1958-04-01</th>\n",
       "      <td>317.45</td>\n",
       "      <td>315.29</td>\n",
       "      <td>1958.250000</td>\n",
       "    </tr>\n",
       "    <tr>\n",
       "      <th>1958-05-01</th>\n",
       "      <td>317.5</td>\n",
       "      <td>314.71</td>\n",
       "      <td>1958.333333</td>\n",
       "    </tr>\n",
       "    <tr>\n",
       "      <th>1958-06-01</th>\n",
       "      <td>None</td>\n",
       "      <td>314.85</td>\n",
       "      <td>1958.416667</td>\n",
       "    </tr>\n",
       "    <tr>\n",
       "      <th>1958-07-01</th>\n",
       "      <td>315.86</td>\n",
       "      <td>314.98</td>\n",
       "      <td>1958.500000</td>\n",
       "    </tr>\n",
       "  </tbody>\n",
       "</table>\n",
       "</div>"
      ],
      "text/plain": [
       "               co2   trend   float_time\n",
       "date                                   \n",
       "1958-03-01  315.71  314.62  1958.166667\n",
       "1958-04-01  317.45  315.29  1958.250000\n",
       "1958-05-01   317.5  314.71  1958.333333\n",
       "1958-06-01    None  314.85  1958.416667\n",
       "1958-07-01  315.86  314.98  1958.500000"
      ]
     },
     "execution_count": 12,
     "metadata": {},
     "output_type": "execute_result"
    }
   ],
   "source": [
    "df['float_time'] = df.index.year + (df.index.month - 1) / 12\n",
    "df.head()"
   ]
  },
  {
   "cell_type": "markdown",
   "metadata": {},
   "source": [
    "Next create a function to represent the curve that we want to use to fit the data, it should represent the following mathematical function. We are going to use an exponential curve.\n",
    "\n",
    "$$ f(t) = a+ be^{c(t-1900)}$$\n",
    "\n",
    "It has three parameters a,b,c"
   ]
  },
  {
   "cell_type": "code",
   "execution_count": 13,
   "metadata": {},
   "outputs": [],
   "source": [
    "def func(t, a, b, c):\n",
    "\treturn a + (b * np.exp (c * (t - 1900)))\n"
   ]
  },
  {
   "cell_type": "markdown",
   "metadata": {},
   "source": [
    "Use the `scipy.optimize` library to fit this curve to the `trend` column in the dataset. You may need to play around with the initial guesses to make sure the curve is correctly fit.\n",
    "\n",
    "Hint: Try to plot the trend curve and the model curve with some parameters you choose by hand. Now modify the guesses until the model curve roughly fits the trend curve. Think of this as a sort of \"manual\" fitting step before you refine your guesses using scipy."
   ]
  },
  {
   "cell_type": "code",
   "execution_count": 14,
   "metadata": {},
   "outputs": [],
   "source": [
    "import scipy.optimize as opt"
   ]
  },
  {
   "cell_type": "code",
   "execution_count": 15,
   "metadata": {},
   "outputs": [
    {
     "data": {
      "text/plain": [
       "<matplotlib.legend.Legend at 0x7fdf408ae5f0>"
      ]
     },
     "execution_count": 15,
     "metadata": {},
     "output_type": "execute_result"
    },
    {
     "data": {
      "image/png": "[encoded data removed]",
      "text/plain": [
       "<Figure size 432x288 with 1 Axes>"
      ]
     },
     "metadata": {
      "needs_background": "light"
     },
     "output_type": "display_data"
    }
   ],
   "source": [
    "init_guess = 200, 63, 0.01\n",
    "plt.plot(df['float_time'], func(df['float_time'], *init_guess), label='guess=> a=200, b=63, c=0.01')\n",
    "plt.plot(df['float_time'], df['trend'], label='trend')\n",
    "plt.legend()\n"
   ]
  },
  {
   "cell_type": "markdown",
   "metadata": {},
   "source": [
    "Create a new column called `curve_fit` and store the curve that you fit above."
   ]
  },
  {
   "cell_type": "code",
   "execution_count": 16,
   "metadata": {},
   "outputs": [
    {
     "name": "stderr",
     "output_type": "stream",
     "text": [
      "/tmp/ipykernel_431764/2837972527.py:3: SettingWithCopyWarning: \n",
      "A value is trying to be set on a copy of a slice from a DataFrame.\n",
      "Try using .loc[row_indexer,col_indexer] = value instead\n",
      "\n",
      "See the caveats in the documentation: https://pandas.pydata.org/pandas-docs/stable/user_guide/indexing.html#returning-a-view-versus-a-copy\n",
      "  df['curve_fit'] = fitting\n"
     ]
    }
   ],
   "source": [
    "opt_curv = opt.curve_fit(func, df['float_time'], df['trend'], p0 = init_guess)[0]\n",
    "fitting = func(df.float_time, *opt_curv) \n",
    "df['curve_fit'] = fitting\n",
    "\n"
   ]
  },
  {
   "cell_type": "markdown",
   "metadata": {},
   "source": [
    "Plot both the fitted curve values and the CO2 trend values in the same plot. Save the plot as `qsn2.png`"
   ]
  },
  {
   "cell_type": "code",
   "execution_count": 17,
   "metadata": {},
   "outputs": [
    {
     "data": {
      "image/png": "[encoded data removed]",
      "text/plain": [
       "<Figure size 432x288 with 1 Axes>"
      ]
     },
     "metadata": {
      "needs_background": "light"
     },
     "output_type": "display_data"
    }
   ],
   "source": [
    "df.plot(y = [\"trend\", \"curve_fit\"])\n",
    "plt.savefig('qsn2.png')"
   ]
  },
  {
   "cell_type": "markdown",
   "metadata": {},
   "source": [
    "Does it match? If it does not you need to tweak the initial values of the model parameters untill both the curves are almost coincident."
   ]
  },
  {
   "cell_type": "markdown",
   "metadata": {},
   "source": [
    "## Question 3 - Make a prediction\n",
    "\n",
    "The CO2 level crossed the 400 ppm level around 2013. In this question we want to find out when according to our naive curve model, will it cross 500 ppm?\n",
    "\n",
    "Use the `scipy.optimize` package's root finding functions to find when will your curve cross the 500ppm threshold mark.\n",
    "\n",
    "Hint: You can do the following in one line, using lambda functions"
   ]
  },
  {
   "cell_type": "code",
   "execution_count": 18,
   "metadata": {},
   "outputs": [
    {
     "data": {
      "text/plain": [
       "2047.3350507915993"
      ]
     },
     "execution_count": 18,
     "metadata": {},
     "output_type": "execute_result"
    }
   ],
   "source": [
    "predicted_year = opt.brentq(lambda t: func(t, *opt_curv) - 500, 1900, 2100)\n",
    "predicted_year\n"
   ]
  },
  {
   "cell_type": "markdown",
   "metadata": {},
   "source": [
    "Plot the CO2 trend along with the prediction values upto the year it would reach 500ppm. You should see two curves, one is the data till 2019 and the other should entend all the way upto the year you predicted that CO2 will cross 500pm. Caption your plot with your model's prediction for when CO2 crosses 500ppm, and save the graph as `qsn3.png`.\n",
    "\n",
    "Hint: You may find it easier to plot using matplotlib plot directly rather than using `df.plot` in this case. Create a linspace from the starting year to the year you predicted to use as the x-axis of the plot."
   ]
  },
  {
   "cell_type": "code",
   "execution_count": 19,
   "metadata": {},
   "outputs": [
    {
     "data": {
      "text/plain": [
       "<matplotlib.legend.Legend at 0x7fdf3e2eb940>"
      ]
     },
     "execution_count": 19,
     "metadata": {},
     "output_type": "execute_result"
    },
    {
     "data": {
      "image/png": "[encoded data removed]",
      "text/plain": [
       "<Figure size 432x288 with 1 Axes>"
      ]
     },
     "metadata": {
      "needs_background": "light"
     },
     "output_type": "display_data"
    }
   ],
   "source": [
    "plt.plot(df['float_time'], df['trend'], label='trend')\n",
    "plt.plot(np.linspace(1958, 2048, 1080), func(np.linspace(1958, 2048, 1080), *opt_curv), label='estimation')\n",
    "plt.legend()"
   ]
  },
  {
   "cell_type": "markdown",
   "metadata": {},
   "source": [
    "## Question 4 - Explain the variation\n",
    "\n",
    "We will now use the curve-fit model that we created earlier to subtract the general increasing trend we see from the CO2 levels. This will allow us to study the more subtle changes in the CO2 levels. In particular we will try to explain these small changes using the [El Nino](https://en.wikipedia.org/wiki/El_Niño) phenomenon. It is a cyclic phenomenon that makes certain winters warmer than usual. We want to see if it can explain the subtle variations in the CO2 levels over and above the general exponential trend. There can be many reasons why the warmer winters might affect the the CO2 levels, including complicated biological reasons such as change in vegetation cover etc, but also man-made reasons such as decreased energy conumption due to reduction in requirement of internal heating. We will use a dataset for the Ocean Nino Index (ONI) which has monthly values just like the CO2 dataset.\n",
    "\n",
    "Download the dataset by running the cell below. You can read more about this data [here](https://origin.cpc.ncep.noaa.gov/products/analysis_monitoring/ensostuff/ONI_v5.php). The SEAS column represents the first letters of the three consecutive months for which the average is taken. For example Jan Feb March will be JFM, We will consider that to be February's value, i.e. the middle month."
   ]
  },
  {
   "cell_type": "code",
   "execution_count": 20,
   "metadata": {},
   "outputs": [
    {
     "data": {
      "text/html": [
       "<div>\n",
       "<style scoped>\n",
       "    .dataframe tbody tr th:only-of-type {\n",
       "        vertical-align: middle;\n",
       "    }\n",
       "\n",
       "    .dataframe tbody tr th {\n",
       "        vertical-align: top;\n",
       "    }\n",
       "\n",
       "    .dataframe thead th {\n",
       "        text-align: right;\n",
       "    }\n",
       "</style>\n",
       "<table border=\"1\" class=\"dataframe\">\n",
       "  <thead>\n",
       "    <tr style=\"text-align: right;\">\n",
       "      <th></th>\n",
       "      <th>SEAS</th>\n",
       "      <th>YR</th>\n",
       "      <th>TOTAL</th>\n",
       "      <th>ANOM</th>\n",
       "    </tr>\n",
       "  </thead>\n",
       "  <tbody>\n",
       "    <tr>\n",
       "      <th>0</th>\n",
       "      <td>DJF</td>\n",
       "      <td>1950</td>\n",
       "      <td>24.72</td>\n",
       "      <td>-1.53</td>\n",
       "    </tr>\n",
       "    <tr>\n",
       "      <th>1</th>\n",
       "      <td>JFM</td>\n",
       "      <td>1950</td>\n",
       "      <td>25.17</td>\n",
       "      <td>-1.34</td>\n",
       "    </tr>\n",
       "    <tr>\n",
       "      <th>2</th>\n",
       "      <td>FMA</td>\n",
       "      <td>1950</td>\n",
       "      <td>25.75</td>\n",
       "      <td>-1.16</td>\n",
       "    </tr>\n",
       "    <tr>\n",
       "      <th>3</th>\n",
       "      <td>MAM</td>\n",
       "      <td>1950</td>\n",
       "      <td>26.12</td>\n",
       "      <td>-1.18</td>\n",
       "    </tr>\n",
       "    <tr>\n",
       "      <th>4</th>\n",
       "      <td>AMJ</td>\n",
       "      <td>1950</td>\n",
       "      <td>26.32</td>\n",
       "      <td>-1.07</td>\n",
       "    </tr>\n",
       "    <tr>\n",
       "      <th>...</th>\n",
       "      <td>...</td>\n",
       "      <td>...</td>\n",
       "      <td>...</td>\n",
       "      <td>...</td>\n",
       "    </tr>\n",
       "    <tr>\n",
       "      <th>9</th>\n",
       "      <td>SON</td>\n",
       "      <td>1950</td>\n",
       "      <td>25.63</td>\n",
       "      <td>-0.44</td>\n",
       "    </tr>\n",
       "    <tr>\n",
       "      <th>10</th>\n",
       "      <td>OND</td>\n",
       "      <td>1950</td>\n",
       "      <td>25.48</td>\n",
       "      <td>-0.60</td>\n",
       "    </tr>\n",
       "    <tr>\n",
       "      <th>11</th>\n",
       "      <td>NDJ</td>\n",
       "      <td>1950</td>\n",
       "      <td>25.34</td>\n",
       "      <td>-0.80</td>\n",
       "    </tr>\n",
       "    <tr>\n",
       "      <th>12</th>\n",
       "      <td>DJF</td>\n",
       "      <td>1951</td>\n",
       "      <td>25.42</td>\n",
       "      <td>-0.82</td>\n",
       "    </tr>\n",
       "    <tr>\n",
       "      <th>13</th>\n",
       "      <td>JFM</td>\n",
       "      <td>1951</td>\n",
       "      <td>25.96</td>\n",
       "      <td>-0.54</td>\n",
       "    </tr>\n",
       "  </tbody>\n",
       "</table>\n",
       "<p>14 rows × 4 columns</p>\n",
       "</div>"
      ],
      "text/plain": [
       "   SEAS    YR  TOTAL  ANOM\n",
       "0   DJF  1950  24.72 -1.53\n",
       "1   JFM  1950  25.17 -1.34\n",
       "2   FMA  1950  25.75 -1.16\n",
       "3   MAM  1950  26.12 -1.18\n",
       "4   AMJ  1950  26.32 -1.07\n",
       "..  ...   ...    ...   ...\n",
       "9   SON  1950  25.63 -0.44\n",
       "10  OND  1950  25.48 -0.60\n",
       "11  NDJ  1950  25.34 -0.80\n",
       "12  DJF  1951  25.42 -0.82\n",
       "13  JFM  1951  25.96 -0.54\n",
       "\n",
       "[14 rows x 4 columns]"
      ]
     },
     "execution_count": 20,
     "metadata": {},
     "output_type": "execute_result"
    }
   ],
   "source": [
    "oni_df = pd.read_csv('http://web.stanford.edu/class/cme193/uploads/oni.ascii.txt', \n",
    "                  delim_whitespace=True)\n",
    "oni_df.head(14)"
   ]
  },
  {
   "cell_type": "markdown",
   "metadata": {},
   "source": [
    "Store the difference between the `trend` column and the `curve_fit` column in a column called `co2_variation`. This column shows how the CO2 level deviated from the curve model in a particular month. Plot it. You should see that max and min deviation is around +2 and -2 ppm. If not you may need to revisit the curve fitting again."
   ]
  },
  {
   "cell_type": "code",
   "execution_count": 21,
   "metadata": {},
   "outputs": [
    {
     "name": "stderr",
     "output_type": "stream",
     "text": [
      "/tmp/ipykernel_431764/3959631676.py:1: SettingWithCopyWarning: \n",
      "A value is trying to be set on a copy of a slice from a DataFrame.\n",
      "Try using .loc[row_indexer,col_indexer] = value instead\n",
      "\n",
      "See the caveats in the documentation: https://pandas.pydata.org/pandas-docs/stable/user_guide/indexing.html#returning-a-view-versus-a-copy\n",
      "  df['co2_variation'] = df['curve_fit'] - df['trend']\n"
     ]
    },
    {
     "data": {
      "text/plain": [
       "<matplotlib.legend.Legend at 0x7fdf403ecd60>"
      ]
     },
     "execution_count": 21,
     "metadata": {},
     "output_type": "execute_result"
    },
    {
     "data": {
      "image/png": "[encoded data removed]",
      "text/plain": [
       "<Figure size 432x288 with 1 Axes>"
      ]
     },
     "metadata": {
      "needs_background": "light"
     },
     "output_type": "display_data"
    }
   ],
   "source": [
    "df['co2_variation'] = df['curve_fit'] - df['trend']\n",
    "plt.plot(df['float_time'], df['co2_variation'], label='co2 variation')\n",
    "plt.legend()"
   ]
  },
  {
   "cell_type": "markdown",
   "metadata": {},
   "source": [
    "Now the task is to find a common set of dates between the datasets (`df` and `oni_df`), to perform the analysis on. In this particular case that can be easily done manually. Store the aligned CO2 levels dataframe in a variable called `df_sub` and the ONI values dataframe in a variable called `oni_df_sub`. They should have same number of rows and the rows should represent the same months."
   ]
  },
  {
   "cell_type": "code",
   "execution_count": 22,
   "metadata": {},
   "outputs": [
    {
     "data": {
      "text/html": [
       "<div>\n",
       "<style scoped>\n",
       "    .dataframe tbody tr th:only-of-type {\n",
       "        vertical-align: middle;\n",
       "    }\n",
       "\n",
       "    .dataframe tbody tr th {\n",
       "        vertical-align: top;\n",
       "    }\n",
       "\n",
       "    .dataframe thead th {\n",
       "        text-align: right;\n",
       "    }\n",
       "</style>\n",
       "<table border=\"1\" class=\"dataframe\">\n",
       "  <thead>\n",
       "    <tr style=\"text-align: right;\">\n",
       "      <th></th>\n",
       "      <th>SEAS</th>\n",
       "      <th>YR</th>\n",
       "      <th>TOTAL</th>\n",
       "      <th>ANOM</th>\n",
       "    </tr>\n",
       "  </thead>\n",
       "  <tbody>\n",
       "    <tr>\n",
       "      <th>98</th>\n",
       "      <td>FMA</td>\n",
       "      <td>1958</td>\n",
       "      <td>28.26</td>\n",
       "      <td>1.27</td>\n",
       "    </tr>\n",
       "    <tr>\n",
       "      <th>99</th>\n",
       "      <td>MAM</td>\n",
       "      <td>1958</td>\n",
       "      <td>28.28</td>\n",
       "      <td>0.93</td>\n",
       "    </tr>\n",
       "    <tr>\n",
       "      <th>100</th>\n",
       "      <td>AMJ</td>\n",
       "      <td>1958</td>\n",
       "      <td>28.19</td>\n",
       "      <td>0.74</td>\n",
       "    </tr>\n",
       "    <tr>\n",
       "      <th>101</th>\n",
       "      <td>MJJ</td>\n",
       "      <td>1958</td>\n",
       "      <td>27.87</td>\n",
       "      <td>0.64</td>\n",
       "    </tr>\n",
       "    <tr>\n",
       "      <th>102</th>\n",
       "      <td>JJA</td>\n",
       "      <td>1958</td>\n",
       "      <td>27.38</td>\n",
       "      <td>0.57</td>\n",
       "    </tr>\n",
       "    <tr>\n",
       "      <th>...</th>\n",
       "      <td>...</td>\n",
       "      <td>...</td>\n",
       "      <td>...</td>\n",
       "      <td>...</td>\n",
       "    </tr>\n",
       "    <tr>\n",
       "      <th>838</th>\n",
       "      <td>OND</td>\n",
       "      <td>2019</td>\n",
       "      <td>27.18</td>\n",
       "      <td>0.51</td>\n",
       "    </tr>\n",
       "    <tr>\n",
       "      <th>839</th>\n",
       "      <td>NDJ</td>\n",
       "      <td>2019</td>\n",
       "      <td>27.17</td>\n",
       "      <td>0.55</td>\n",
       "    </tr>\n",
       "    <tr>\n",
       "      <th>840</th>\n",
       "      <td>DJF</td>\n",
       "      <td>2020</td>\n",
       "      <td>27.14</td>\n",
       "      <td>0.50</td>\n",
       "    </tr>\n",
       "    <tr>\n",
       "      <th>841</th>\n",
       "      <td>JFM</td>\n",
       "      <td>2020</td>\n",
       "      <td>27.35</td>\n",
       "      <td>0.48</td>\n",
       "    </tr>\n",
       "    <tr>\n",
       "      <th>842</th>\n",
       "      <td>FMA</td>\n",
       "      <td>2020</td>\n",
       "      <td>27.70</td>\n",
       "      <td>0.40</td>\n",
       "    </tr>\n",
       "  </tbody>\n",
       "</table>\n",
       "<p>745 rows × 4 columns</p>\n",
       "</div>"
      ],
      "text/plain": [
       "    SEAS    YR  TOTAL  ANOM\n",
       "98   FMA  1958  28.26  1.27\n",
       "99   MAM  1958  28.28  0.93\n",
       "100  AMJ  1958  28.19  0.74\n",
       "101  MJJ  1958  27.87  0.64\n",
       "102  JJA  1958  27.38  0.57\n",
       "..   ...   ...    ...   ...\n",
       "838  OND  2019  27.18  0.51\n",
       "839  NDJ  2019  27.17  0.55\n",
       "840  DJF  2020  27.14  0.50\n",
       "841  JFM  2020  27.35  0.48\n",
       "842  FMA  2020  27.70  0.40\n",
       "\n",
       "[745 rows x 4 columns]"
      ]
     },
     "execution_count": 22,
     "metadata": {},
     "output_type": "execute_result"
    }
   ],
   "source": [
    "df_sub = df\n",
    "oni_df_sub = oni_df.iloc[98:843]\n",
    "oni_df_sub"
   ]
  },
  {
   "cell_type": "markdown",
   "metadata": {},
   "source": [
    "The below output should show the same start and end dates, if they are properly aligned"
   ]
  },
  {
   "cell_type": "code",
   "execution_count": 23,
   "metadata": {},
   "outputs": [
    {
     "name": "stdout",
     "output_type": "stream",
     "text": [
      "    SEAS    YR\n",
      "98   FMA  1958\n",
      "842  FMA  2020\n",
      "DatetimeIndex(['1958-03-01', '2020-03-01'], dtype='datetime64[ns]', name='date', freq=None)\n"
     ]
    }
   ],
   "source": [
    "print(oni_df_sub[['SEAS','YR']].iloc[[0,-1]])\n",
    "print(df_sub.index[[0,-1]])"
   ]
  },
  {
   "cell_type": "markdown",
   "metadata": {},
   "source": [
    "We can now extract the values into numpy arrays to use for regression"
   ]
  },
  {
   "cell_type": "code",
   "execution_count": 24,
   "metadata": {},
   "outputs": [],
   "source": [
    "y = df_sub['co2_variation'].values\n",
    "x = oni_df_sub['ANOM'].values"
   ]
  },
  {
   "cell_type": "markdown",
   "metadata": {},
   "source": [
    "Let us now train a linear regression model to see if we can predict the CO2 variation using the ONI values. Since this is a time series and there can be historical dependence, we want to use the time shifted values of `x` as features to predict `y`. We want our prediction of the CO2 variation to linearly depend on the ONI values for the last year (12 months). This is called an [Autoregressive Model](https://en.wikipedia.org/wiki/Autoregressive_model)\n",
    "\n",
    "Write a function called `featurize(x,d)` that returns a matrix of `d` columns, where each column is a time shifted version of `x`. The first column would be `x` itself, the second one will be `x` delayed by one (shifted down by 1, time increases as you go down) and so on till column `d`. Since the earliest `d-1` values do not have enough history, we can ignore such rows, thus the return value will have `d-1` fewer rows. Compare the output of your function to the example output below to make sure it is working correctly."
   ]
  },
  {
   "cell_type": "code",
   "execution_count": 25,
   "metadata": {},
   "outputs": [],
   "source": [
    "def featurize(x, d):\n",
    "    out_matrix = []\n",
    "    for i in range(len(x) - d + 1):\n",
    "        temp = x[i: i + d]\n",
    "        out_matrix.append(temp[::-1])\n",
    "    \n",
    "    return np.array(out_matrix)"
   ]
  },
  {
   "cell_type": "code",
   "execution_count": 26,
   "metadata": {},
   "outputs": [
    {
     "name": "stdout",
     "output_type": "stream",
     "text": [
      "Input =  [0.  0.1 0.2 0.3 0.4 0.5 0.6 0.7 0.8 0.9] \n",
      "\n",
      "Output = \n",
      " [[0.3 0.2 0.1 0. ]\n",
      " [0.4 0.3 0.2 0.1]\n",
      " [0.5 0.4 0.3 0.2]\n",
      " [0.6 0.5 0.4 0.3]\n",
      " [0.7 0.6 0.5 0.4]\n",
      " [0.8 0.7 0.6 0.5]\n",
      " [0.9 0.8 0.7 0.6]] \n",
      "\n"
     ]
    }
   ],
   "source": [
    "inp1 = 0.1*np.arange(10)\n",
    "print(\"Input = \",inp1,\"\\n\")\n",
    "print(\"Output = \\n\",featurize(inp1,4), \"\\n\")"
   ]
  },
  {
   "cell_type": "markdown",
   "metadata": {},
   "source": [
    "Expected output is \n",
    "```\n",
    "Input =  [0.  0.1 0.2 0.3 0.4 0.5 0.6 0.7 0.8 0.9] \n",
    "\n",
    "Output = \n",
    " [[0.3 0.2 0.1 0. ]\n",
    " [0.4 0.3 0.2 0.1]\n",
    " [0.5 0.4 0.3 0.2]\n",
    " [0.6 0.5 0.4 0.3]\n",
    " [0.7 0.6 0.5 0.4]\n",
    " [0.8 0.7 0.6 0.5]\n",
    " [0.9 0.8 0.7 0.6]]\n",
    "\n",
    "```"
   ]
  },
  {
   "cell_type": "markdown",
   "metadata": {},
   "source": [
    "Now use d=12 to featurize the `x` values and train a linear regression model to predict `y`. Remember you need to truncate `y` as well to ensure they are the same size."
   ]
  },
  {
   "cell_type": "code",
   "execution_count": 27,
   "metadata": {},
   "outputs": [
    {
     "data": {
      "text/plain": [
       "LinearRegression()"
      ]
     },
     "execution_count": 27,
     "metadata": {},
     "output_type": "execute_result"
    }
   ],
   "source": [
    "from sklearn.linear_model import LinearRegression as LRM\n",
    "\n",
    "x_featurized = featurize(x,12)\n",
    "\n",
    "adapted_y = y[11:]\n",
    "model = LRM()\n",
    "model.fit(x_featurized, adapted_y)"
   ]
  },
  {
   "cell_type": "markdown",
   "metadata": {},
   "source": [
    "Now store the regression predictions in a column called \"ONI_regression\" and plot both the \"ONI_regression\" and \"co2_variation\" columns in the same plot. Does the regression actually capture the variation in CO2 levels?\n",
    "\n",
    "To be more principled, use `scipy.stats.pearsonr` to compute the [Peasrson's R coefficient](https://en.wikipedia.org/wiki/Pearson_correlation_coefficient) between the \"ONI_regression\" and \"co2_variation\" columns and display the value in the title of the graph."
   ]
  },
  {
   "cell_type": "code",
   "execution_count": 28,
   "metadata": {},
   "outputs": [
    {
     "name": "stdout",
     "output_type": "stream",
     "text": [
      "Pearson Correlation:  (0.30610470865119693, 1.2632430014592068e-17)\n"
     ]
    },
    {
     "name": "stderr",
     "output_type": "stream",
     "text": [
      "/tmp/ipykernel_431764/2082264398.py:6: SettingWithCopyWarning: \n",
      "A value is trying to be set on a copy of a slice from a DataFrame.\n",
      "Try using .loc[row_indexer,col_indexer] = value instead\n",
      "\n",
      "See the caveats in the documentation: https://pandas.pydata.org/pandas-docs/stable/user_guide/indexing.html#returning-a-view-versus-a-copy\n",
      "  df_sub['ONI_regression'] = pred\n"
     ]
    },
    {
     "data": {
      "image/png": "[encoded data removed]",
      "text/plain": [
       "<Figure size 432x288 with 1 Axes>"
      ]
     },
     "metadata": {
      "needs_background": "light"
     },
     "output_type": "display_data"
    }
   ],
   "source": [
    "from scipy.stats import pearsonr\n",
    "# for first 11 elements\n",
    "pred = np.zeros(len(y))\n",
    "pred[11:] = model.predict(x_featurized)\n",
    "\n",
    "df_sub['ONI_regression'] = pred\n",
    "\n",
    "pearsons = pearsonr(df_sub.ONI_regression, df_sub.co2_variation)\n",
    "\n",
    "plt.plot(df_sub.index, df_sub['ONI_regression'], label='ONI_regression')\n",
    "plt.plot(df_sub.index, df_sub['co2_variation'], label='co2_variation')\n",
    "plt.title(f'Question 4-A: Pearson Correlation = {pearsons}')\n",
    "plt.legend()\n",
    "\n",
    "\n",
    "print(\"Pearson Correlation: \", pearsons)"
   ]
  },
  {
   "cell_type": "markdown",
   "metadata": {},
   "source": [
    "If you look at the above graph closely you should see that indeed some of the peaks can be captured through the regression model. The predictions should be better in the later years after 1995. In order to confirm that, plot from 1995 onwards and recompute the pearson coefficient for this time period and put it in the title of the plot. You should get a higher value of the coefficient now. Save this plot as `qsn4.png`."
   ]
  },
  {
   "cell_type": "code",
   "execution_count": 29,
   "metadata": {},
   "outputs": [
    {
     "name": "stdout",
     "output_type": "stream",
     "text": [
      "Pearson Correlation:  (0.6011416475041137, 3.7214563400405423e-31)\n"
     ]
    },
    {
     "data": {
      "image/png": "[encoded data removed]",
      "text/plain": [
       "<Figure size 432x288 with 1 Axes>"
      ]
     },
     "metadata": {
      "needs_background": "light"
     },
     "output_type": "display_data"
    }
   ],
   "source": [
    "pearsons = pearsonr(df_sub.ONI_regression[442:], df_sub.co2_variation[442:])\n",
    "print(\"Pearson Correlation: \", pearsons)\n",
    "\n",
    "plt.plot(df_sub.index[442:], df_sub.ONI_regression[442:], label='ONI_regression')\n",
    "plt.plot(df_sub.index[442:], df_sub.co2_variation[442:], label='co2_variation')\n",
    "plt.title(f'Question 4-B: Pearson Correlation = {pearsons}')\n",
    "plt.legend()\n",
    "plt.savefig('qsn4.png')"
   ]
  },
  {
   "cell_type": "markdown",
   "metadata": {},
   "source": [
    "# Submission Instructions\n",
    "\n",
    "You need to submit the following in canvas\n",
    "1. This notebook with the code filled in for each question\n",
    "2. The figures\n",
    "    1. qsn1.png\n",
    "    2. qsn2.png\n",
    "    3. qsn3.png\n",
    "    4. qsn4.png\n"
   ]
  },
  {
   "cell_type": "code",
   "execution_count": null,
   "metadata": {},
   "outputs": [],
   "source": []
  }
 ],
 "metadata": {
  "kernelspec": {
   "display_name": "Python 3",
   "language": "python",
   "name": "python3"
  },
  "language_info": {
   "codemirror_mode": {
    "name": "ipython",
    "version": 3
   },
   "file_extension": ".py",
   "mimetype": "text/x-python",
   "name": "python",
   "nbconvert_exporter": "python",
   "pygments_lexer": "ipython3",
   "version": "3.7.3"
  }
 },
 "nbformat": 4,
 "nbformat_minor": 2
}
