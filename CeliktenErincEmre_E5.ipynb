{
 "cells": [
  {
   "cell_type": "markdown",
   "metadata": {},
   "source": [
    "# Exercise 5\n",
    "---\n",
    "Course: Scientific Programming<br>\n",
    "Date: 16.04.2022<br>\n",
    "Author: Erinc Emre Celikten<br>\n",
    "Author School Number: 20170808032\n",
    "\n",
    "---"
   ]
  },
  {
   "cell_type": "markdown",
   "metadata": {},
   "source": [
    "## 9 Numpy\n",
    "### 9.5: Singular values"
   ]
  },
  {
   "cell_type": "code",
   "execution_count": 15,
   "metadata": {},
   "outputs": [
    {
     "name": "stdout",
     "output_type": "stream",
     "text": [
      "Matrix:  [[0 1 1 0 1]\n",
      " [1 1 1 0 1]\n",
      " [1 0 1 1 0]\n",
      " [0 1 1 0 0]\n",
      " [0 0 0 1 0]]\n",
      "Singular values:  [2.98078375 1.6316503  0.90354568 0.73514203 0.30954307]\n"
     ]
    }
   ],
   "source": [
    "import numpy as np\n",
    "import matplotlib.pyplot as plt\n",
    "import scipy as sp\n",
    "import numpy.random as rnd\n",
    "\n",
    "n= 5\n",
    "p = 0.5\n",
    "\n",
    "C = rnd.choice([0, 1], size=(n, n), p=[1 - p, p])\n",
    "\n",
    "# sorted in decreasing order\n",
    "s = np.linalg.svd(C, compute_uv=False)\n",
    "\n",
    "print('Matrix: ' , C)\n",
    "print('Singular values: ', s)"
   ]
  },
  {
   "cell_type": "markdown",
   "metadata": {},
   "source": [
    "## 10 Scipy\n",
    "### 10.1: Least squares"
   ]
  },
  {
   "cell_type": "code",
   "execution_count": 16,
   "metadata": {},
   "outputs": [
    {
     "name": "stdout",
     "output_type": "stream",
     "text": [
      "Norm of x:  1.4298690264080653\n"
     ]
    }
   ],
   "source": [
    "import scipy.optimize as opt\n",
    "\n",
    "m, n = 20, 10\n",
    "A = rnd.rand(m, n)\n",
    "b = rnd.rand(m)\n",
    "\n",
    "x = opt.lsq_linear(A, b).x\n",
    "\n",
    "norm = np.linalg.norm(x)\n",
    "print('Norm of x: ', norm)\n"
   ]
  },
  {
   "cell_type": "markdown",
   "metadata": {},
   "source": [
    "### 10.2: Optimization"
   ]
  },
  {
   "cell_type": "code",
   "execution_count": 17,
   "metadata": {},
   "outputs": [
    {
     "name": "stdout",
     "output_type": "stream",
     "text": [
      "0.21624132858697098\n"
     ]
    }
   ],
   "source": [
    "import math\n",
    "def func(x):\n",
    "    eq = math.pow(np.sin(x - 2), 2) * math.exp(-1 * (x ** 2))\n",
    "    return -eq\n",
    "\n",
    "y = opt.minimize_scalar(func).x\n",
    "print(y)\n"
   ]
  },
  {
   "cell_type": "markdown",
   "metadata": {},
   "source": [
    "### 10.3: Pairwise distances"
   ]
  },
  {
   "cell_type": "code",
   "execution_count": 18,
   "metadata": {},
   "outputs": [
    {
     "data": {
      "text/plain": [
       "[[array([2, 3]), array([5, 7]), 5.0],\n",
       " [array([2, 3]), array([ 8, 11]), 5.0],\n",
       " [array([5, 7]), array([ 8, 11]), 10.0]]"
      ]
     },
     "execution_count": 18,
     "metadata": {},
     "output_type": "execute_result"
    }
   ],
   "source": [
    "import scipy.spatial.distance as dist\n",
    "\n",
    "x = np.array([[2, 3], [5, 7],[8,11]])\n",
    "\n",
    "y = dist.pdist(x, 'euclidean')\n",
    "\n",
    "answ = []\n",
    "for i in range(len(x)):\n",
    "    for j in range(i ,len(x)):\n",
    "        if i != j:\n",
    "            answ.append([x[i], x[j], y[i]])\n",
    "answ\n"
   ]
  },
  {
   "cell_type": "markdown",
   "metadata": {},
   "source": [
    "## 11 Matplotlib\n",
    "### 11.1: Plotting a function"
   ]
  },
  {
   "cell_type": "code",
   "execution_count": 19,
   "metadata": {},
   "outputs": [
    {
     "data": {
      "text/plain": [
       "Text(0.5, 1.0, 'Exercise 11.1')"
      ]
     },
     "execution_count": 19,
     "metadata": {},
     "output_type": "execute_result"
    },
    {
     "data": {
      "image/png": "[encoded data removed]",
      "text/plain": [
       "<Figure size 432x288 with 1 Axes>"
      ]
     },
     "metadata": {
      "needs_background": "light"
     },
     "output_type": "display_data"
    }
   ],
   "source": [
    "f = lambda x : np.power(np.sin(x-2), 2 ) * np.exp(-np.power(x, 2))\n",
    "x = np.linspace(0, 2, 5)\n",
    "y = f(x)\n",
    "\n",
    "plt.plot(x, y)\n",
    "plt.xlabel('x')\n",
    "plt.ylabel('f(x)')\n",
    "plt.title('Exercise 11.1')\n",
    "\n"
   ]
  },
  {
   "cell_type": "markdown",
   "metadata": {},
   "source": [
    "### 11.2: Data"
   ]
  },
  {
   "cell_type": "code",
   "execution_count": 20,
   "metadata": {},
   "outputs": [],
   "source": [
    "n = 10\n",
    "m = 20\n",
    "y = np.dot(np.random.randn(m, n), np.random.normal(n)) + np.random.normal(m)\n"
   ]
  },
  {
   "cell_type": "markdown",
   "metadata": {},
   "source": [
    "### 11.3: Histogram and density estimation"
   ]
  },
  {
   "cell_type": "code",
   "execution_count": 21,
   "metadata": {},
   "outputs": [
    {
     "data": {
      "image/png": "[encoded data removed]",
      "text/plain": [
       "<Figure size 432x288 with 1 Axes>"
      ]
     },
     "metadata": {
      "needs_background": "light"
     },
     "output_type": "display_data"
    }
   ],
   "source": [
    "from scipy import stats\n",
    "\n",
    "z = np.random.normal(0, 1, 10000)\n",
    "g = stats.gaussian_kde(z)\n",
    "\n",
    "y = g.pdf(np.linspace(-5, 5, 50))\n",
    "plt.hist(z, bins=25, density=True)\n",
    "plt.plot(np.linspace(-5, 5, 50), y,)\n",
    "plt.title('Exercise 11.3')\n",
    "plt.show()"
   ]
  }
 ],
 "metadata": {
  "interpreter": {
   "hash": "916dbcbb3f70747c44a77c7bcd40155683ae19c65e1c03b4aa3499c5328201f1"
  },
  "kernelspec": {
   "display_name": "Python 3.8.10 64-bit",
   "language": "python",
   "name": "python3"
  },
  "language_info": {
   "codemirror_mode": {
    "name": "ipython",
    "version": 3
   },
   "file_extension": ".py",
   "mimetype": "text/x-python",
   "name": "python",
   "nbconvert_exporter": "python",
   "pygments_lexer": "ipython3",
   "version": "2.7.18"
  },
  "orig_nbformat": 4
 },
 "nbformat": 4,
 "nbformat_minor": 2
}
