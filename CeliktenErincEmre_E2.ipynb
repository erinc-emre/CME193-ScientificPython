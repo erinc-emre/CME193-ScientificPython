{
 "cells": [
  {
   "cell_type": "markdown",
   "id": "679a37e9",
   "metadata": {},
   "source": [
    "# Exercise 2\n",
    "---\n",
    "Course: Scientific Programming<br>\n",
    "Date: 10.03.2022<br>\n",
    "Author: Erinc Emre Celikten<br>\n",
    "Author School Number: 20170808032\n",
    "\n",
    "---"
   ]
  },
  {
   "cell_type": "markdown",
   "id": "4a20e514",
   "metadata": {},
   "source": [
    "## 4 List"
   ]
  },
  {
   "cell_type": "markdown",
   "id": "4efd5782",
   "metadata": {},
   "source": [
    "### 4.1: Short questions"
   ]
  },
  {
   "cell_type": "code",
   "execution_count": 4,
   "id": "b5e03461",
   "metadata": {},
   "outputs": [
    {
     "name": "stdout",
     "output_type": "stream",
     "text": [
      "1\n",
      "2\n",
      "3\n"
     ]
    }
   ],
   "source": [
    "alis = [1,2,3]\n",
    "\n",
    "def func(alis):\n",
    "    for e in alis:\n",
    "        print(e)\n",
    "    \n",
    "func(alis)"
   ]
  },
  {
   "cell_type": "code",
   "execution_count": 15,
   "id": "bb81e75a",
   "metadata": {},
   "outputs": [
    {
     "name": "stdout",
     "output_type": "stream",
     "text": [
      "1\n",
      "2\n",
      "3\n"
     ]
    }
   ],
   "source": [
    "def func(alis):\n",
    "    alis.reverse()\n",
    "    for e in alis:\n",
    "        print(e)\n",
    "    \n",
    "func(alis)"
   ]
  },
  {
   "cell_type": "code",
   "execution_count": 19,
   "id": "961e1acd",
   "metadata": {},
   "outputs": [
    {
     "data": {
      "text/plain": [
       "3"
      ]
     },
     "execution_count": 19,
     "metadata": {},
     "output_type": "execute_result"
    }
   ],
   "source": [
    "def func(alis):\n",
    "    i = 0\n",
    "    for _ in alis:\n",
    "        i += 1\n",
    "    return i\n",
    "\n",
    "func(alis)"
   ]
  },
  {
   "cell_type": "markdown",
   "id": "158a014b",
   "metadata": {},
   "source": [
    "### 4.2: Copying lists"
   ]
  },
  {
   "cell_type": "code",
   "execution_count": 22,
   "id": "9765a2ea",
   "metadata": {},
   "outputs": [],
   "source": [
    "a = [1, 2, 3]"
   ]
  },
  {
   "cell_type": "code",
   "execution_count": 23,
   "id": "e33e1cb8",
   "metadata": {},
   "outputs": [],
   "source": [
    "b = a"
   ]
  },
  {
   "cell_type": "code",
   "execution_count": 24,
   "id": "13990a23",
   "metadata": {},
   "outputs": [],
   "source": [
    "b[0] = 9"
   ]
  },
  {
   "cell_type": "code",
   "execution_count": 29,
   "id": "678fc80d",
   "metadata": {},
   "outputs": [
    {
     "name": "stdout",
     "output_type": "stream",
     "text": [
      "[9, 2, 3]\n"
     ]
    }
   ],
   "source": [
    "print(a) # with 'b = a' we did not create a new list, 'b' points existing list 'a'. So, when we change 'b' we also change 'a' and vice versa."
   ]
  },
  {
   "cell_type": "code",
   "execution_count": 26,
   "id": "ca450265",
   "metadata": {},
   "outputs": [],
   "source": [
    "c = a[:]"
   ]
  },
  {
   "cell_type": "code",
   "execution_count": 27,
   "id": "4f648982",
   "metadata": {},
   "outputs": [],
   "source": [
    "c[2] = 99"
   ]
  },
  {
   "cell_type": "code",
   "execution_count": 30,
   "id": "c06f5496",
   "metadata": {},
   "outputs": [
    {
     "name": "stdout",
     "output_type": "stream",
     "text": [
      "[9, 2, 3]\n"
     ]
    }
   ],
   "source": [
    "print(a) # with 'c = a[:]' we iterate over 'a' and copy every element in every index. So, 'c' is a new list object, that is not dependent to 'a'."
   ]
  },
  {
   "cell_type": "code",
   "execution_count": 37,
   "id": "683ac97f",
   "metadata": {},
   "outputs": [
    {
     "name": "stdout",
     "output_type": "stream",
     "text": [
      "old list [0, 2, 3]\n",
      "new list [0, 2, 3]\n"
     ]
    }
   ],
   "source": [
    "def set_first_elem_to_zero(l):\n",
    "    l[0] = 0\n",
    "    return l\n",
    "\n",
    "alis = [1, 2, 3]\n",
    "new_alis = set_first_elem_to_zero(alis)\n",
    "print('old list' , alis)\n",
    "print('new list' , new_alis)\n",
    "\n",
    "# We are not creating new object and send to function. Instead we manupulate object and create new list that points old one. So two list will show same result. "
   ]
  },
  {
   "cell_type": "markdown",
   "id": "97641fcf",
   "metadata": {},
   "source": [
    "### 4.3: Lists of lists"
   ]
  },
  {
   "cell_type": "code",
   "execution_count": 39,
   "id": "c247a55f",
   "metadata": {},
   "outputs": [
    {
     "name": "stdout",
     "output_type": "stream",
     "text": [
      "[[], [], []]\n",
      "[[], [], []]\n"
     ]
    }
   ],
   "source": [
    "a = [[]] * 3\n",
    "b = [[] for _ in range(3)]\n",
    "\n",
    "print(a)\n",
    "print(b)\n",
    "\n",
    "# they are equal"
   ]
  },
  {
   "cell_type": "markdown",
   "id": "fa11fa8b",
   "metadata": {},
   "source": [
    "### 4.4: Lists and functions"
   ]
  },
  {
   "cell_type": "code",
   "execution_count": 44,
   "id": "a4b3a836",
   "metadata": {},
   "outputs": [
    {
     "name": "stdout",
     "output_type": "stream",
     "text": [
      "[1, 2, 0]\n"
     ]
    }
   ],
   "source": [
    "alis = [1, 2, 3]\n",
    "\n",
    "def func(alis, index):\n",
    "    alis[index] = 0\n",
    "    return alis\n",
    "\n",
    "print(func(alis,2))"
   ]
  },
  {
   "cell_type": "markdown",
   "id": "4a00d244",
   "metadata": {},
   "source": [
    "### 4.5: Primes"
   ]
  },
  {
   "cell_type": "code",
   "execution_count": 45,
   "id": "078e3942",
   "metadata": {},
   "outputs": [
    {
     "name": "stdout",
     "output_type": "stream",
     "text": [
      "[1, 2, 3, 5, 7, 11, 13]\n"
     ]
    }
   ],
   "source": [
    "def func(x):\n",
    "    answ = []\n",
    "    for n in range(1, x + 1):\n",
    "        if n % 6 != 5 or n % 6 != 1:    \n",
    "            k = True\n",
    "            for i in range(2, n):\n",
    "                if n % i == 0: k = False\n",
    "            if k: answ.append(n)\n",
    "    return answ\n",
    "                \n",
    "print(func(15))"
   ]
  },
  {
   "cell_type": "markdown",
   "id": "024c87c6",
   "metadata": {},
   "source": [
    "### 4.6: List comprehensions"
   ]
  },
  {
   "cell_type": "code",
   "execution_count": 51,
   "id": "4dcf8be2",
   "metadata": {},
   "outputs": [
    {
     "name": "stdout",
     "output_type": "stream",
     "text": [
      "[[1, 2], [2, 3], [3, 5], [4, 1]]\n"
     ]
    }
   ],
   "source": [
    "def func(x ,y):\n",
    "    answ = []\n",
    "    l = min(len(x), len(y))\n",
    "    for i in range(l):\n",
    "        answ.append([x[i], y[i]])\n",
    "    return answ\n",
    "\n",
    "\n",
    "a = [1, 2, 3, 4]\n",
    "b = [2, 3, 5, 1, 4]\n",
    "print(func(a,b))"
   ]
  },
  {
   "cell_type": "code",
   "execution_count": 52,
   "id": "ae7c0eb8",
   "metadata": {},
   "outputs": [
    {
     "name": "stdout",
     "output_type": "stream",
     "text": [
      "[[1, 2], [2, 3], [3, 5]]\n"
     ]
    }
   ],
   "source": [
    "def func(x ,y):\n",
    "    answ = []\n",
    "    l = min(len(x), len(y))\n",
    "    for i in range(l):\n",
    "        if x[i] < y[i]:\n",
    "            answ.append([x[i], y[i]])\n",
    "    return answ\n",
    "\n",
    "\n",
    "a = [1, 2, 3, 4]\n",
    "b = [2, 3, 5, 1, 4]\n",
    "print(func(a,b))"
   ]
  },
  {
   "cell_type": "code",
   "execution_count": 58,
   "id": "21ea97f1",
   "metadata": {},
   "outputs": [
    {
     "name": "stdout",
     "output_type": "stream",
     "text": [
      "[18]\n"
     ]
    }
   ],
   "source": [
    "\n",
    "def is_prime(n):\n",
    "    k = True\n",
    "    for i in range(2, n):\n",
    "        if n % i == 0: k = False\n",
    "    return k\n",
    "\n",
    "def func(x ,y):\n",
    "    answ = []\n",
    "    l = min(len(x), len(y))\n",
    "    for i in range(l):\n",
    "        if x[i] > y[i] and is_prime(x[i]) and is_prime(x[i]):\n",
    "            answ.append(x[i] + y[i])\n",
    "    return answ\n",
    "\n",
    "\n",
    "\n",
    "a = [1, 13, 3, 4]\n",
    "b = [2, 5, 5, 1, 4]\n",
    "print(func(a,b))"
   ]
  },
  {
   "cell_type": "code",
   "execution_count": 61,
   "id": "121d0749",
   "metadata": {},
   "outputs": [
    {
     "name": "stdout",
     "output_type": "stream",
     "text": [
      "16\n"
     ]
    }
   ],
   "source": [
    "def func(x, coef):\n",
    "    answ = 0\n",
    "    for power, coef in enumerate(coef):\n",
    "        answ += x ** power * coef\n",
    "    return answ\n",
    "\n",
    "x = 5\n",
    "coef = [1, -2 ,1]\n",
    "\n",
    "print(func(x, coef))"
   ]
  },
  {
   "cell_type": "markdown",
   "id": "a0319c06",
   "metadata": {},
   "source": [
    "### 4.7: Filter"
   ]
  },
  {
   "cell_type": "code",
   "execution_count": 113,
   "id": "9248c67b",
   "metadata": {},
   "outputs": [
    {
     "name": "stdout",
     "output_type": "stream",
     "text": [
      "[2, 4]\n"
     ]
    }
   ],
   "source": [
    "def myfilter(func, x):\n",
    "    return [i for i in x if func(i)]\n",
    "\n",
    "\n",
    "def func(x):\n",
    "    if x % 2 == 0:\n",
    "        return True\n",
    "    else: return False\n",
    "    \n",
    "    \n",
    "x = [1,2,3,4]\n",
    "\n",
    "print(myfilter(func, x))"
   ]
  },
  {
   "cell_type": "markdown",
   "id": "cc851a44",
   "metadata": {},
   "source": [
    "### 4.8: Flatten a list of4.9: Finding the longest word lists"
   ]
  },
  {
   "cell_type": "code",
   "execution_count": 119,
   "id": "5a766e3e",
   "metadata": {},
   "outputs": [
    {
     "name": "stdout",
     "output_type": "stream",
     "text": [
      "[1, 3, 3, 6]\n"
     ]
    }
   ],
   "source": [
    "def func(x):\n",
    "    answ = []\n",
    "    [[answ.append(j) for j in i] for i in x]\n",
    "    return answ\n",
    "\n",
    "\n",
    "x = [[1,3], [3,6]]\n",
    "print(func(x))"
   ]
  },
  {
   "cell_type": "markdown",
   "id": "94cd198b",
   "metadata": {},
   "source": [
    "### 4.9: Finding the longest word"
   ]
  },
  {
   "cell_type": "code",
   "execution_count": 194,
   "id": "375e973e",
   "metadata": {},
   "outputs": [
    {
     "name": "stdout",
     "output_type": "stream",
     "text": [
      "football\n"
     ]
    }
   ],
   "source": [
    "def func(text):\n",
    "    text = text.translate(str.maketrans('', '', string.punctuation))\n",
    "    w = text.split()\n",
    "    return max(w, key=len)\n",
    "\n",
    "print(func('Hello, how was the football match earlier today???'))"
   ]
  },
  {
   "cell_type": "markdown",
   "id": "f976f91f",
   "metadata": {},
   "source": [
    "### 4.10: Collatz sequence, part 2"
   ]
  },
  {
   "cell_type": "code",
   "execution_count": 200,
   "id": "89b2a610",
   "metadata": {},
   "outputs": [
    {
     "name": "stdout",
     "output_type": "stream",
     "text": [
      "[10, 5, 16, 8, 4, 2]\n"
     ]
    }
   ],
   "source": [
    "def func(x):\n",
    "    answ = []\n",
    "    while x != 1:\n",
    "        answ.append(int(x))\n",
    "        if x % 2 == 0: x /= 2\n",
    "        else: x = 3 * x + 1 \n",
    "    return answ\n",
    "\n",
    "print(func(10))"
   ]
  },
  {
   "cell_type": "code",
   "execution_count": 215,
   "id": "57300232",
   "metadata": {},
   "outputs": [
    {
     "name": "stdout",
     "output_type": "stream",
     "text": [
      "9\n"
     ]
    }
   ],
   "source": [
    "def func(x):\n",
    "    answ = []\n",
    "    for i in range(1, x+1):\n",
    "        temp = []\n",
    "        while i != 1:\n",
    "            temp.append(int(x))\n",
    "            if i % 2 == 0: i /= 2\n",
    "            else: i = 3 * i + 1 \n",
    "        answ.append(temp)\n",
    "        k = [len(x) for x in answ]\n",
    "    return k.index(max(k)) + 1\n",
    "\n",
    "print(func(10))"
   ]
  },
  {
   "cell_type": "markdown",
   "id": "57c8abb4",
   "metadata": {},
   "source": [
    "### 4.11: Pivots"
   ]
  },
  {
   "cell_type": "code",
   "execution_count": 228,
   "id": "5d7c39a8",
   "metadata": {},
   "outputs": [
    {
     "name": "stdout",
     "output_type": "stream",
     "text": [
      "[1, 3, 4, 6, 7]\n"
     ]
    }
   ],
   "source": [
    "def func(x, alist):\n",
    "    alist.sort()\n",
    "    for num in alist:\n",
    "        if (num >= x):\n",
    "            alist.insert(alist.index(num), x)\n",
    "            return alist\n",
    "    return null\n",
    "\n",
    "print(func(3, [6, 4, 1, 7]))"
   ]
  },
  {
   "cell_type": "markdown",
   "id": "9c9f99bc",
   "metadata": {},
   "source": [
    "### 4.12: Prime challenge"
   ]
  },
  {
   "cell_type": "code",
   "execution_count": 270,
   "id": "c8dc1613",
   "metadata": {},
   "outputs": [
    {
     "name": "stdout",
     "output_type": "stream",
     "text": [
      "[2, 3, 5, 7]\n"
     ]
    }
   ],
   "source": [
    "#Single Line     '̿'\\̵͇̿̿\\з=( ▀ ͜͞ʖ▀)=ε/̵͇̿̿/’̿\n",
    "def primes(n): return [k[0] for k in [[x for x in range(2, i+1) if i % x == 0]for i in range(2, n+1)] if len(k) == 1]\n",
    "\n",
    "print(primes(10))\n"
   ]
  },
  {
   "cell_type": "markdown",
   "id": "8f2c56a1",
   "metadata": {},
   "source": [
    "---\n",
    "## 5 Tuples"
   ]
  },
  {
   "cell_type": "markdown",
   "id": "a3f7d033",
   "metadata": {},
   "source": [
    "### 5.1: Swapping two value"
   ]
  },
  {
   "cell_type": "code",
   "execution_count": 273,
   "id": "bef2b3bd",
   "metadata": {},
   "outputs": [
    {
     "name": "stdout",
     "output_type": "stream",
     "text": [
      "x: 2\n",
      "y: 1\n"
     ]
    }
   ],
   "source": [
    "x = 1\n",
    "y = 2\n",
    "\n",
    "x, y = y, x\n",
    "print('x:',x)\n",
    "print('y:',y)"
   ]
  },
  {
   "cell_type": "markdown",
   "id": "81003950",
   "metadata": {},
   "source": [
    "### 5.2: Zip"
   ]
  },
  {
   "cell_type": "code",
   "execution_count": 284,
   "id": "54247f51",
   "metadata": {},
   "outputs": [
    {
     "name": "stdout",
     "output_type": "stream",
     "text": [
      "zipped: [(1, 4), (2, 5), (3, 6)]\n",
      "unzipped: [(1, 2, 3), (4, 5, 6)]\n"
     ]
    }
   ],
   "source": [
    "x = [1,2,3]\n",
    "y = [4,5,6]\n",
    "\n",
    "zipped = list(zip(x,y))\n",
    "unzipped = list(zip(*zipped))\n",
    "print('zipped:', zipped)\n",
    "print('unzipped:',unzipped)"
   ]
  },
  {
   "cell_type": "markdown",
   "id": "774fb1c5",
   "metadata": {},
   "source": [
    "### 5.3: Distances"
   ]
  },
  {
   "cell_type": "code",
   "execution_count": 295,
   "id": "f7ba70de",
   "metadata": {},
   "outputs": [
    {
     "name": "stdout",
     "output_type": "stream",
     "text": [
      "[['L1: 4.123105625617661', 'L2: 5'], ['L1: 5.385164807134504', 'L2: 7'], ['L1: 6.708203932499369', 'L2: 9']]\n"
     ]
    }
   ],
   "source": [
    "def func(x, y): return [['L1: {}'.format((x[i]**2 + y[i]**2)**(1/2)), 'L2: {}'.format(x[i] + y[i])] for i in range(len(x))]\n",
    "\n",
    "\n",
    "\n",
    "x = (1,2,3)\n",
    "y = (4,5,6)\n",
    "print(func(x, y))\n",
    "        "
   ]
  },
  {
   "cell_type": "markdown",
   "id": "9bb9801d",
   "metadata": {},
   "source": [
    "---\n",
    "## 6 Dictionaries"
   ]
  },
  {
   "cell_type": "markdown",
   "id": "007f1f58",
   "metadata": {},
   "source": [
    "### 6.1: Printing a dictionary"
   ]
  },
  {
   "cell_type": "code",
   "execution_count": 313,
   "id": "8ca7015f",
   "metadata": {},
   "outputs": [
    {
     "name": "stdout",
     "output_type": "stream",
     "text": [
      "1\n",
      "KEY : VALUE\n",
      "a : 1\n",
      "b : 2\n"
     ]
    }
   ],
   "source": [
    "adic = {'a':1, 'b':2}\n",
    "def func(adic):\n",
    "    print('KEY : VALUE')\n",
    "    for key, value in adic.items():\n",
    "        print (key , \":\" , value)\n",
    "        \n",
    "func(adic)"
   ]
  },
  {
   "cell_type": "markdown",
   "id": "e2abc7f8",
   "metadata": {},
   "source": [
    "### 6.2: Histogram"
   ]
  },
  {
   "cell_type": "code",
   "execution_count": 321,
   "id": "e2141776",
   "metadata": {},
   "outputs": [
    {
     "name": "stdout",
     "output_type": "stream",
     "text": [
      "{1: 1, 2: 1, 3: 2}\n"
     ]
    }
   ],
   "source": [
    "def func(x): \n",
    "    adic={}\n",
    "    for k in x:\n",
    "        if adic.get(k, False):\n",
    "            adic[k] += 1\n",
    "        else:\n",
    "            adic[k] = 1\n",
    "    return adic\n",
    "\n",
    "x = [1,2,3,3]\n",
    "print(func(x))\n",
    "\n",
    "# collections Counter is also a good way to make this operation. But in terms of complexity they are not different"
   ]
  },
  {
   "cell_type": "markdown",
   "id": "6eb0c857",
   "metadata": {},
   "source": [
    "### 6.3: Get method"
   ]
  },
  {
   "cell_type": "code",
   "execution_count": null,
   "id": "c4b776bc",
   "metadata": {},
   "outputs": [],
   "source": [
    "# already wrote with using 'get' method"
   ]
  },
  {
   "cell_type": "markdown",
   "id": "544a159a",
   "metadata": {},
   "source": [
    "### 6.4: Random text generator"
   ]
  },
  {
   "cell_type": "code",
   "execution_count": 53,
   "id": "5a10840c",
   "metadata": {},
   "outputs": [
    {
     "name": "stdout",
     "output_type": "stream",
     "text": [
      "[('BEGIN', 'in'), ('in', 'winter'), ('winter', 'i'), ('i', 'get'), ('get', 'up'), ('up', 'at'), ('at', 'night'), ('night', 'END')]\n"
     ]
    }
   ],
   "source": [
    "\n",
    "def process_line(line):\n",
    "    answ = []\n",
    "    w = line.lower().split()\n",
    "    st = 'BEGIN'\n",
    "    end = 'END'\n",
    "    for i in range(len(w)):\n",
    "        if i == 0:\n",
    "            answ.append((st, w[0]))\n",
    "        if i == len(w) - 1:\n",
    "            answ.append((w[-1], end))\n",
    "        else:\n",
    "            answ.append((w[i], w[i+1]))\n",
    "    return answ\n",
    "\n",
    "\n",
    "x = \"In winter I get up at night\"\n",
    "\n",
    "print(process_line(x))"
   ]
  },
  {
   "cell_type": "markdown",
   "id": "c4b06afa",
   "metadata": {},
   "source": [
    "###  6.5: Vector functions"
   ]
  },
  {
   "cell_type": "markdown",
   "id": "c8b8d3d0",
   "metadata": {},
   "source": [
    "Since I do the 'dense' operation on a separate function, I can perform operations on normal and dense vectors using the same functions."
   ]
  },
  {
   "cell_type": "code",
   "execution_count": 34,
   "id": "6a8908bf",
   "metadata": {},
   "outputs": [],
   "source": [
    "# extra function for making dense\n",
    "def list_to_dense_sparse(alis):\n",
    "    adic = {}\n",
    "    for i in range(len(alis)):\n",
    "        if alis[i] != 0:\n",
    "            adic[i] = alis[i]\n",
    "    return adic\n",
    "\n",
    "alis1 = [1,2,0,0,0,4,0,0]\n",
    "alis2 = [2,3,4,0,3,4,0,0]\n",
    "s1 = list_to_sparse(alis1)\n",
    "s2 = list_to_sparse(alis2)"
   ]
  },
  {
   "cell_type": "code",
   "execution_count": 35,
   "id": "46b40e48",
   "metadata": {},
   "outputs": [
    {
     "name": "stdout",
     "output_type": "stream",
     "text": [
      "{0: 3, 1: 5, 5: 8, 2: 4, 4: 3}\n"
     ]
    }
   ],
   "source": [
    "def sparse_add(s1, s2):\n",
    "    new_dic = {}\n",
    "    new_dic.update(s1)\n",
    "    new_dic.update(s2)\n",
    "\n",
    "    for i in s1.keys():\n",
    "        for j in s2.keys():\n",
    "            if i == j:\n",
    "                new_dic[i] = s1[i] +s2[i]\n",
    "\n",
    "    return new_dic\n",
    "print(sparse_add(s1, s2))   "
   ]
  },
  {
   "cell_type": "code",
   "execution_count": 36,
   "id": "b9b4346e",
   "metadata": {},
   "outputs": [
    {
     "name": "stdout",
     "output_type": "stream",
     "text": [
      "{0: 2, 1: 6, 5: 16, 2: 4, 4: 3}\n"
     ]
    }
   ],
   "source": [
    "def sparse_mul(s1, s2):\n",
    "    new_dic = {}\n",
    "    new_dic.update(s1)\n",
    "    new_dic.update(s2)\n",
    "\n",
    "    for i in s1.keys():\n",
    "        for j in s2.keys():\n",
    "            if i == j:\n",
    "                new_dic[i] = s1[i] * s2[i]\n",
    "\n",
    "    return new_dic\n",
    "print(sparse_mul(s1, s2))  "
   ]
  },
  {
   "cell_type": "code",
   "execution_count": 37,
   "id": "b3e99a43",
   "metadata": {},
   "outputs": [
    {
     "name": "stdout",
     "output_type": "stream",
     "text": [
      "{0: 3, 1: 5, 5: 8, 2: 4, 4: 3}\n"
     ]
    }
   ],
   "source": [
    "def sparse_add(s1, s2):\n",
    "    new_dic = {}\n",
    "    new_dic.update(s1)\n",
    "    new_dic.update(s2)\n",
    "\n",
    "    for i in s1.keys():\n",
    "        for j in s2.keys():\n",
    "            if i == j:\n",
    "                new_dic[i] = s1[i] +s2[i]\n",
    "\n",
    "    return new_dic\n",
    "print(sparse_add(s1, s2))   "
   ]
  },
  {
   "cell_type": "code",
   "execution_count": 38,
   "id": "2713da89",
   "metadata": {},
   "outputs": [
    {
     "name": "stdout",
     "output_type": "stream",
     "text": [
      "{0: 2, 1: 6, 5: 16, 2: 4, 4: 3}\n"
     ]
    }
   ],
   "source": [
    "def sparse_mul(s1, s2):\n",
    "    new_dic = {}\n",
    "    new_dic.update(s1)\n",
    "    new_dic.update(s2)\n",
    "\n",
    "    for i in s1.keys():\n",
    "        for j in s2.keys():\n",
    "            if i == j:\n",
    "                new_dic[i] = s1[i] * s2[i]\n",
    "\n",
    "    return new_dic\n",
    "print(sparse_mul(s1, s2))  "
   ]
  },
  {
   "cell_type": "code",
   "execution_count": 39,
   "id": "c4a78361",
   "metadata": {},
   "outputs": [
    {
     "name": "stdout",
     "output_type": "stream",
     "text": [
      "{0: 3, 1: 5, 5: 8, 2: 4, 4: 3}\n"
     ]
    }
   ],
   "source": [
    "def sparse_add(s1, s2):\n",
    "    new_dic = {}\n",
    "    new_dic.update(s1)\n",
    "    new_dic.update(s2)\n",
    "\n",
    "    for i in s1.keys():\n",
    "        for j in s2.keys():\n",
    "            if i == j:\n",
    "                new_dic[i] = s1[i] +s2[i]\n",
    "\n",
    "    return new_dic\n",
    "print(sparse_add(s1, s2))   "
   ]
  },
  {
   "cell_type": "code",
   "execution_count": 40,
   "id": "cadd04b8",
   "metadata": {},
   "outputs": [
    {
     "name": "stdout",
     "output_type": "stream",
     "text": [
      "{0: 2, 1: 6, 5: 16, 2: 4, 4: 3}\n"
     ]
    }
   ],
   "source": [
    "def sparse_mul(s1, s2):\n",
    "    new_dic = {}\n",
    "    new_dic.update(s1)\n",
    "    new_dic.update(s2)\n",
    "\n",
    "    for i in s1.keys():\n",
    "        for j in s2.keys():\n",
    "            if i == j:\n",
    "                new_dic[i] = s1[i] * s2[i]\n",
    "\n",
    "    return new_dic\n",
    "print(sparse_mul(s1, s2))  "
   ]
  },
  {
   "cell_type": "markdown",
   "id": "5fe111bf",
   "metadata": {},
   "source": [
    " ### 6.6: Reverse look-up"
   ]
  },
  {
   "cell_type": "code",
   "execution_count": 4,
   "id": "92063bb8",
   "metadata": {},
   "outputs": [
    {
     "name": "stdout",
     "output_type": "stream",
     "text": [
      "b\n"
     ]
    }
   ],
   "source": [
    "def func(adic, x):\n",
    "    keys = adic.keys()\n",
    "    values = adic.values()\n",
    "    new_dic = dict(zip(values, keys))\n",
    "    return new_dic.get(x)\n",
    "\n",
    "adic = {'a':1, 'b':2}\n",
    "print(func(adic, 2))\n",
    "\n",
    "# We cannot find key of value in dictionary directly through original dictionary. Instead I created dictionary in reverse. However in original dictionary if any of the keys have a multiple keys. then this won't work. "
   ]
  }
 ],
 "metadata": {
  "kernelspec": {
   "display_name": "Python [conda env:sp] *",
   "language": "python",
   "name": "conda-env-sp-py"
  },
  "language_info": {
   "codemirror_mode": {
    "name": "ipython",
    "version": 3
   },
   "file_extension": ".py",
   "mimetype": "text/x-python",
   "name": "python",
   "nbconvert_exporter": "python",
   "pygments_lexer": "ipython3",
   "version": "3.10.0"
  }
 },
 "nbformat": 4,
 "nbformat_minor": 5
}
