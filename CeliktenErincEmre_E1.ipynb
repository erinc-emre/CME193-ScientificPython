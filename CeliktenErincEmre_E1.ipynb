{
 "cells": [
  {
   "cell_type": "markdown",
   "id": "33069227",
   "metadata": {},
   "source": [
    "# Exercise 1\n",
    "---\n",
    "Course: Scientific Programming<br>\n",
    "Date: 03.03.2022<br>\n",
    "Author: Erinc Emre Celikten<br>\n",
    "Author School Number: 20170808032\n",
    "\n",
    "---"
   ]
  },
  {
   "cell_type": "markdown",
   "id": "d5323d3a",
   "metadata": {},
   "source": [
    "# Content\n",
    "> ## 1 Basics\n",
    ">> 1.1: The interpreter<br>\n",
    ">> 1.2: Scripts <br>\n",
    ">> 1.4: Booleans<br>\n",
    ">> 1.5: Integers<br>\n",
    ">> 1.6: Floats<br>\n",
    ">> 1.7: Variables<br>\n",
    ">> 1.8: Type casting\n",
    "> ## 2 Control flow\n",
    ">> 2.1: Range<br>\n",
    ">> 2.2: For loops<br>\n",
    ">> 2.3: Simple while loops<br>\n",
    ">> 2.4: Hangman update 1<br>\n",
    ">> 2.5: While loops<br>\n",
    ">> 2.6: More while loops<br>\n",
    ">> 2.7: Collatz sequence\n",
    "> ## 3 Functions\n",
    ">> 3.1: Hello<br>\n",
    ">> 3.2: Polynomial<br>\n",
    ">> 3.3: Maximum<br>\n",
    ">> 3.4: Primes<br>\n",
    ">> 3.5: Root finding\n",
    "---"
   ]
  },
  {
   "cell_type": "markdown",
   "id": "d0b51b30",
   "metadata": {},
   "source": [
    "## 1 Basics"
   ]
  },
  {
   "cell_type": "markdown",
   "id": "e3d91755",
   "metadata": {},
   "source": [
    "### 1.1: The interpreter"
   ]
  },
  {
   "cell_type": "code",
   "execution_count": 1,
   "id": "7740f60a",
   "metadata": {},
   "outputs": [
    {
     "data": {
      "text/plain": [
       "4"
      ]
     },
     "execution_count": 1,
     "metadata": {},
     "output_type": "execute_result"
    }
   ],
   "source": [
    "3 + 1 # output: 4"
   ]
  },
  {
   "cell_type": "code",
   "execution_count": 2,
   "id": "c2b54cc1",
   "metadata": {},
   "outputs": [
    {
     "data": {
      "text/plain": [
       "9"
      ]
     },
     "execution_count": 2,
     "metadata": {},
     "output_type": "execute_result"
    }
   ],
   "source": [
    "3 * 3 # output: 9"
   ]
  },
  {
   "cell_type": "code",
   "execution_count": 3,
   "id": "937c6922",
   "metadata": {},
   "outputs": [
    {
     "data": {
      "text/plain": [
       "8"
      ]
     },
     "execution_count": 3,
     "metadata": {},
     "output_type": "execute_result"
    }
   ],
   "source": [
    "2 ** 3 # output: 8"
   ]
  },
  {
   "cell_type": "code",
   "execution_count": 4,
   "id": "dae6dbe4",
   "metadata": {},
   "outputs": [
    {
     "data": {
      "text/plain": [
       "'Hello, world!'"
      ]
     },
     "execution_count": 4,
     "metadata": {},
     "output_type": "execute_result"
    }
   ],
   "source": [
    "\"Hello, world!\" # output: 'Hello, world!'"
   ]
  },
  {
   "cell_type": "markdown",
   "id": "ccdb66cc",
   "metadata": {},
   "source": [
    "### 1.2: Scripts"
   ]
  },
  {
   "cell_type": "code",
   "execution_count": 5,
   "id": "e0fd574f",
   "metadata": {},
   "outputs": [
    {
     "name": "stdout",
     "output_type": "stream",
     "text": [
      "Traceback (most recent call last):\r\n",
      "  File \"/home/erinc/Desktop/Scientific Programming/script1.py\", line 4, in <module>\r\n",
      "    Hello, world\r\n",
      "NameError: name 'Hello' is not defined\r\n"
     ]
    }
   ],
   "source": [
    "! echo '3 + 1'$'\\n''3 * 3'$'\\n''2 ** 3'$'\\n'\"Hello, world\" > script1.py\n",
    "! python3 script1.py"
   ]
  },
  {
   "cell_type": "code",
   "execution_count": 6,
   "id": "17b570f3",
   "metadata": {},
   "outputs": [
    {
     "name": "stdout",
     "output_type": "stream",
     "text": [
      "4\r\n",
      "9\r\n",
      "8\r\n",
      "Hello, world\r\n"
     ]
    }
   ],
   "source": [
    "! echo 'print(3 + 1)'$'\\n''print(3 * 3)'$'\\n''print(2 ** 3)'$'\\n''print(\"Hello, world\")'> script2.py\n",
    "! python3 script2.py"
   ]
  },
  {
   "cell_type": "markdown",
   "id": "5e7034cf",
   "metadata": {},
   "source": [
    "### 1.3 more interpreter"
   ]
  },
  {
   "cell_type": "code",
   "execution_count": 10,
   "id": "a18a3a7e",
   "metadata": {},
   "outputs": [
    {
     "data": {
      "text/plain": [
       "'python'"
      ]
     },
     "execution_count": 10,
     "metadata": {},
     "output_type": "execute_result"
    }
   ],
   "source": [
    "'py' + 'thon' # merges strings"
   ]
  },
  {
   "cell_type": "code",
   "execution_count": 11,
   "id": "062f7c30",
   "metadata": {},
   "outputs": [
    {
     "data": {
      "text/plain": [
       "'pypypython'"
      ]
     },
     "execution_count": 11,
     "metadata": {},
     "output_type": "execute_result"
    }
   ],
   "source": [
    "'py' * 3 + 'thon' # merges given string 'py' by the given number afterwards merges with lastly given string 'thon'"
   ]
  },
  {
   "cell_type": "code",
   "execution_count": 12,
   "id": "9ee31b0c",
   "metadata": {},
   "outputs": [
    {
     "ename": "TypeError",
     "evalue": "unsupported operand type(s) for -: 'str' and 'str'",
     "output_type": "error",
     "traceback": [
      "\u001b[0;31m---------------------------------------------------------------------------\u001b[0m",
      "\u001b[0;31mTypeError\u001b[0m                                 Traceback (most recent call last)",
      "\u001b[0;32m/tmp/ipykernel_142462/269218145.py\u001b[0m in \u001b[0;36m<module>\u001b[0;34m\u001b[0m\n\u001b[0;32m----> 1\u001b[0;31m \u001b[0;34m'py'\u001b[0m \u001b[0;34m-\u001b[0m \u001b[0;34m'py'\u001b[0m\u001b[0;34m\u001b[0m\u001b[0;34m\u001b[0m\u001b[0m\n\u001b[0m",
      "\u001b[0;31mTypeError\u001b[0m: unsupported operand type(s) for -: 'str' and 'str'"
     ]
    }
   ],
   "source": [
    "'py' - 'py' # there is no '-' operation between two string so, python3 throws an error"
   ]
  },
  {
   "cell_type": "code",
   "execution_count": 13,
   "id": "62bc8779",
   "metadata": {},
   "outputs": [
    {
     "ename": "TypeError",
     "evalue": "can only concatenate str (not \"int\") to str",
     "output_type": "error",
     "traceback": [
      "\u001b[0;31m---------------------------------------------------------------------------\u001b[0m",
      "\u001b[0;31mTypeError\u001b[0m                                 Traceback (most recent call last)",
      "\u001b[0;32m/tmp/ipykernel_142462/1841419283.py\u001b[0m in \u001b[0;36m<module>\u001b[0;34m\u001b[0m\n\u001b[0;32m----> 1\u001b[0;31m \u001b[0;34m'3'\u001b[0m \u001b[0;34m+\u001b[0m \u001b[0;36m3\u001b[0m\u001b[0;34m\u001b[0m\u001b[0;34m\u001b[0m\u001b[0m\n\u001b[0m",
      "\u001b[0;31mTypeError\u001b[0m: can only concatenate str (not \"int\") to str"
     ]
    }
   ],
   "source": [
    "'3' + 3 # there is no '+' operation between two string so, python3 throws an error"
   ]
  },
  {
   "cell_type": "code",
   "execution_count": 14,
   "id": "25502698",
   "metadata": {},
   "outputs": [
    {
     "data": {
      "text/plain": [
       "'333'"
      ]
     },
     "execution_count": 14,
     "metadata": {},
     "output_type": "execute_result"
    }
   ],
   "source": [
    "3 * '3'  # merges given string '3' by the given number"
   ]
  },
  {
   "cell_type": "code",
   "execution_count": 15,
   "id": "27580506",
   "metadata": {},
   "outputs": [
    {
     "ename": "NameError",
     "evalue": "name 'a' is not defined",
     "output_type": "error",
     "traceback": [
      "\u001b[0;31m---------------------------------------------------------------------------\u001b[0m",
      "\u001b[0;31mNameError\u001b[0m                                 Traceback (most recent call last)",
      "\u001b[0;32m/tmp/ipykernel_142462/2167009006.py\u001b[0m in \u001b[0;36m<module>\u001b[0;34m\u001b[0m\n\u001b[0;32m----> 1\u001b[0;31m \u001b[0ma\u001b[0m\u001b[0;34m\u001b[0m\u001b[0;34m\u001b[0m\u001b[0m\n\u001b[0m",
      "\u001b[0;31mNameError\u001b[0m: name 'a' is not defined"
     ]
    }
   ],
   "source": [
    "a # python3 gives thorws error beacuse there were no variable 'a' defined from us or python3 itself"
   ]
  },
  {
   "cell_type": "code",
   "execution_count": 16,
   "id": "67d4f48b",
   "metadata": {},
   "outputs": [],
   "source": [
    "a = 3 # we create variable 'a' and assign a value of 3 in integer format"
   ]
  },
  {
   "cell_type": "code",
   "execution_count": 17,
   "id": "06a298a9",
   "metadata": {},
   "outputs": [
    {
     "data": {
      "text/plain": [
       "3"
      ]
     },
     "execution_count": 17,
     "metadata": {},
     "output_type": "execute_result"
    }
   ],
   "source": [
    "a # calling varialbe 'a'"
   ]
  },
  {
   "cell_type": "markdown",
   "id": "f1a98475",
   "metadata": {},
   "source": [
    "### 1.4: Booleans"
   ]
  },
  {
   "cell_type": "markdown",
   "id": "ac2bb0c7",
   "metadata": {},
   "source": [
    "#### Explanation:\n",
    "In python3 when we use boolean operators with boolean variables ('True' and 'False') with another type of varibale, python3 translates everything to 'True' expext '0'. '0' means 'False'."
   ]
  },
  {
   "cell_type": "code",
   "execution_count": 18,
   "id": "028794af",
   "metadata": {},
   "outputs": [
    {
     "data": {
      "text/plain": [
       "True"
      ]
     },
     "execution_count": 18,
     "metadata": {},
     "output_type": "execute_result"
    }
   ],
   "source": [
    "1 == 1 # one equals 1 so it's 'True'"
   ]
  },
  {
   "cell_type": "code",
   "execution_count": 19,
   "id": "d4510c86",
   "metadata": {},
   "outputs": [
    {
     "data": {
      "text/plain": [
       "True"
      ]
     },
     "execution_count": 19,
     "metadata": {},
     "output_type": "execute_result"
    }
   ],
   "source": [
    "1 == True # explained"
   ]
  },
  {
   "cell_type": "code",
   "execution_count": 20,
   "id": "109ad313",
   "metadata": {},
   "outputs": [
    {
     "data": {
      "text/plain": [
       "False"
      ]
     },
     "execution_count": 20,
     "metadata": {},
     "output_type": "execute_result"
    }
   ],
   "source": [
    "0 == True # explained"
   ]
  },
  {
   "cell_type": "code",
   "execution_count": 21,
   "id": "67beb426",
   "metadata": {},
   "outputs": [
    {
     "data": {
      "text/plain": [
       "True"
      ]
     },
     "execution_count": 21,
     "metadata": {},
     "output_type": "execute_result"
    }
   ],
   "source": [
    "0 == False # explained"
   ]
  },
  {
   "cell_type": "code",
   "execution_count": 22,
   "id": "2e465fde",
   "metadata": {},
   "outputs": [
    {
     "data": {
      "text/plain": [
       "True"
      ]
     },
     "execution_count": 22,
     "metadata": {},
     "output_type": "execute_result"
    }
   ],
   "source": [
    "3 == 1 * 3 # arithmetic calculations have a priority. So, after aritmetic calcualtion 3 is equal to 3 so it's 'True'"
   ]
  },
  {
   "cell_type": "code",
   "execution_count": 23,
   "id": "4abcfdb1",
   "metadata": {},
   "outputs": [
    {
     "data": {
      "text/plain": [
       "0"
      ]
     },
     "execution_count": 23,
     "metadata": {},
     "output_type": "execute_result"
    }
   ],
   "source": [
    "(3 == 1) * 3 # explained"
   ]
  },
  {
   "cell_type": "code",
   "execution_count": 24,
   "id": "9fe0eca9",
   "metadata": {},
   "outputs": [
    {
     "data": {
      "text/plain": [
       "False"
      ]
     },
     "execution_count": 24,
     "metadata": {},
     "output_type": "execute_result"
    }
   ],
   "source": [
    "(3 == 3) * 4 + 3 == 1  # explained"
   ]
  },
  {
   "cell_type": "code",
   "execution_count": 25,
   "id": "1cf67dc9",
   "metadata": {},
   "outputs": [
    {
     "data": {
      "text/plain": [
       "False"
      ]
     },
     "execution_count": 25,
     "metadata": {},
     "output_type": "execute_result"
    }
   ],
   "source": [
    "3**5 >= 4**4 # explained"
   ]
  },
  {
   "cell_type": "markdown",
   "id": "c5022ba5",
   "metadata": {},
   "source": [
    "### 1.5: Integers"
   ]
  },
  {
   "cell_type": "markdown",
   "id": "1bdd496f",
   "metadata": {},
   "source": [
    "#### Explanation:\n",
    "In python3 when the result of the operation is still in the same type, python3 keeps the result in this type as well. But if it is in different type than it changes automaticly."
   ]
  },
  {
   "cell_type": "code",
   "execution_count": 30,
   "id": "212fa475",
   "metadata": {},
   "outputs": [
    {
     "data": {
      "text/plain": [
       "1.6666666666666667"
      ]
     },
     "execution_count": 30,
     "metadata": {},
     "output_type": "execute_result"
    }
   ],
   "source": [
    "5 / 3 # result of the arithmetic is fractional. So pyhton3 gives answer in float type."
   ]
  },
  {
   "cell_type": "code",
   "execution_count": 31,
   "id": "7c2b1220",
   "metadata": {},
   "outputs": [
    {
     "data": {
      "text/plain": [
       "2"
      ]
     },
     "execution_count": 31,
     "metadata": {},
     "output_type": "execute_result"
    }
   ],
   "source": [
    "5 % 3 # reamining operator. Result of the arithmetic is still in integer type."
   ]
  },
  {
   "cell_type": "code",
   "execution_count": 32,
   "id": "13749bc2",
   "metadata": {},
   "outputs": [
    {
     "data": {
      "text/plain": [
       "1.6666666666666667"
      ]
     },
     "execution_count": 32,
     "metadata": {},
     "output_type": "execute_result"
    }
   ],
   "source": [
    "5.0 / 3 # result of the arithmetic is fractional. So pyhton3 gives answer in float type."
   ]
  },
  {
   "cell_type": "code",
   "execution_count": 33,
   "id": "9fdf8b82",
   "metadata": {},
   "outputs": [
    {
     "data": {
      "text/plain": [
       "1.6666666666666667"
      ]
     },
     "execution_count": 33,
     "metadata": {},
     "output_type": "execute_result"
    }
   ],
   "source": [
    "5 / 3.0 # result of the arithmetic is fractional. So pyhton3 gives answer in float type."
   ]
  },
  {
   "cell_type": "code",
   "execution_count": 34,
   "id": "66fce7f0",
   "metadata": {},
   "outputs": [
    {
     "data": {
      "text/plain": [
       "2.2"
      ]
     },
     "execution_count": 34,
     "metadata": {},
     "output_type": "execute_result"
    }
   ],
   "source": [
    "5.2 % 3 # result of the arithmetic is fractional. So pyhton3 gives answer in float type."
   ]
  },
  {
   "cell_type": "code",
   "execution_count": 35,
   "id": "61980542",
   "metadata": {},
   "outputs": [
    {
     "data": {
      "text/plain": [
       "1775896810483121914350934797871501063452843428843794422323202530887281536545210629921129898113201749875234297340507804201761453596034016264189501186924066128377025843892373608427790859511135990682732202975330824797118808624727351608183194154557208730494440110429635650057431833674286462463508755276302896154336475782768613964332764108132533925570342220340698973761380541294970139762186212823359128790706292900765512137078550033912252338262922477518858757114840012576514724742388124595061301502222934806074032688691170880996881967426442947828261057852871032366879179996122216385870273020506079240103910728766397733398071775041745854959302025036249707279600400001"
      ]
     },
     "execution_count": 35,
     "metadata": {},
     "output_type": "execute_result"
    }
   ],
   "source": [
    "2001 ** 200 # result of the arithmetic cannot storeable in integer type due size. So pyhton3 gives answer in 'long integer'."
   ]
  },
  {
   "cell_type": "markdown",
   "id": "ee3881bf",
   "metadata": {},
   "source": [
    "### 1.6: Floats"
   ]
  },
  {
   "cell_type": "markdown",
   "id": "c2e86c5f",
   "metadata": {},
   "source": [
    "#### Explanation:\n",
    "In python3 when the result of the operation is still in the same type, python3 keeps the result in this type as well. But if it is in different type than it changes automaticly."
   ]
  },
  {
   "cell_type": "code",
   "execution_count": 37,
   "id": "e862aa4c",
   "metadata": {},
   "outputs": [
    {
     "ename": "OverflowError",
     "evalue": "(34, 'Numerical result out of range')",
     "output_type": "error",
     "traceback": [
      "\u001b[0;31m---------------------------------------------------------------------------\u001b[0m",
      "\u001b[0;31mOverflowError\u001b[0m                             Traceback (most recent call last)",
      "\u001b[0;32m/tmp/ipykernel_142462/2640983736.py\u001b[0m in \u001b[0;36m<module>\u001b[0;34m\u001b[0m\n\u001b[0;32m----> 1\u001b[0;31m \u001b[0;36m2000.3\u001b[0m \u001b[0;34m**\u001b[0m \u001b[0;36m200\u001b[0m\u001b[0;34m\u001b[0m\u001b[0;34m\u001b[0m\u001b[0m\n\u001b[0m",
      "\u001b[0;31mOverflowError\u001b[0m: (34, 'Numerical result out of range')"
     ]
    }
   ],
   "source": [
    "2000.3 ** 200 # result of this arithmetic won't fit in to float type due to size."
   ]
  },
  {
   "cell_type": "code",
   "execution_count": 38,
   "id": "6855ecda",
   "metadata": {},
   "outputs": [
    {
     "data": {
      "text/plain": [
       "1.0"
      ]
     },
     "execution_count": 38,
     "metadata": {},
     "output_type": "execute_result"
    }
   ],
   "source": [
    "1.0 + 1.0 - 1.0 # explained"
   ]
  },
  {
   "cell_type": "code",
   "execution_count": 39,
   "id": "95a4539a",
   "metadata": {},
   "outputs": [
    {
     "data": {
      "text/plain": [
       "0.0"
      ]
     },
     "execution_count": 39,
     "metadata": {},
     "output_type": "execute_result"
    }
   ],
   "source": [
    "1.0 + 1.0e20 - 1.0e20 # explained"
   ]
  },
  {
   "cell_type": "markdown",
   "id": "5f5cc0e4",
   "metadata": {},
   "source": [
    "### 1.7: Variables"
   ]
  },
  {
   "cell_type": "code",
   "execution_count": 41,
   "id": "99cbdc26",
   "metadata": {},
   "outputs": [
    {
     "name": "stdout",
     "output_type": "stream",
     "text": [
      "Hello, Erinc!\n"
     ]
    }
   ],
   "source": [
    "name = 'Erinc'\n",
    "print('Hello, ' + name + '!')"
   ]
  },
  {
   "cell_type": "markdown",
   "id": "994b726a",
   "metadata": {},
   "source": [
    "### 1.8: Type casting"
   ]
  },
  {
   "cell_type": "code",
   "execution_count": 42,
   "id": "1b70a625",
   "metadata": {},
   "outputs": [
    {
     "data": {
      "text/plain": [
       "123.0"
      ]
     },
     "execution_count": 42,
     "metadata": {},
     "output_type": "execute_result"
    }
   ],
   "source": [
    "float(123) # integer to folat is possible"
   ]
  },
  {
   "cell_type": "code",
   "execution_count": 47,
   "id": "ccb4d203",
   "metadata": {},
   "outputs": [
    {
     "data": {
      "text/plain": [
       "123.0"
      ]
     },
     "execution_count": 47,
     "metadata": {},
     "output_type": "execute_result"
    }
   ],
   "source": [
    "float('123') # string to float is possible if string includes only numbers"
   ]
  },
  {
   "cell_type": "code",
   "execution_count": 48,
   "id": "aec251a4",
   "metadata": {},
   "outputs": [
    {
     "data": {
      "text/plain": [
       "123.23"
      ]
     },
     "execution_count": 48,
     "metadata": {},
     "output_type": "execute_result"
    }
   ],
   "source": [
    "float('123.23') # already in float type"
   ]
  },
  {
   "cell_type": "code",
   "execution_count": 49,
   "id": "7c47abdf",
   "metadata": {},
   "outputs": [
    {
     "data": {
      "text/plain": [
       "123"
      ]
     },
     "execution_count": 49,
     "metadata": {},
     "output_type": "execute_result"
    }
   ],
   "source": [
    "int(123.23) #  folat to integer is possible, but when it happens fractions will drop"
   ]
  },
  {
   "cell_type": "code",
   "execution_count": 50,
   "id": "c8d4d30c",
   "metadata": {},
   "outputs": [
    {
     "ename": "ValueError",
     "evalue": "invalid literal for int() with base 10: '123.23'",
     "output_type": "error",
     "traceback": [
      "\u001b[0;31m---------------------------------------------------------------------------\u001b[0m",
      "\u001b[0;31mValueError\u001b[0m                                Traceback (most recent call last)",
      "\u001b[0;32m/tmp/ipykernel_142462/3741893573.py\u001b[0m in \u001b[0;36m<module>\u001b[0;34m\u001b[0m\n\u001b[0;32m----> 1\u001b[0;31m \u001b[0mint\u001b[0m\u001b[0;34m(\u001b[0m\u001b[0;34m'123.23'\u001b[0m\u001b[0;34m)\u001b[0m\u001b[0;34m\u001b[0m\u001b[0;34m\u001b[0m\u001b[0m\n\u001b[0m",
      "\u001b[0;31mValueError\u001b[0m: invalid literal for int() with base 10: '123.23'"
     ]
    }
   ],
   "source": [
    "int('123.23') # it cannot be done directly, but it could be done in 2 step as follows; string to float then float to int"
   ]
  },
  {
   "cell_type": "code",
   "execution_count": 53,
   "id": "0a62543b",
   "metadata": {},
   "outputs": [
    {
     "data": {
      "text/plain": [
       "123"
      ]
     },
     "execution_count": 53,
     "metadata": {},
     "output_type": "execute_result"
    }
   ],
   "source": [
    "int(float('123.23')) # explained"
   ]
  },
  {
   "cell_type": "code",
   "execution_count": 55,
   "id": "eddf71e4",
   "metadata": {},
   "outputs": [
    {
     "data": {
      "text/plain": [
       "'12'"
      ]
     },
     "execution_count": 55,
     "metadata": {},
     "output_type": "execute_result"
    }
   ],
   "source": [
    "str(12) # integer to string is possible"
   ]
  },
  {
   "cell_type": "code",
   "execution_count": 57,
   "id": "d38fe75f",
   "metadata": {},
   "outputs": [
    {
     "data": {
      "text/plain": [
       "'12.2'"
      ]
     },
     "execution_count": 57,
     "metadata": {},
     "output_type": "execute_result"
    }
   ],
   "source": [
    "str(12.2) # float to string is possible"
   ]
  },
  {
   "cell_type": "code",
   "execution_count": 59,
   "id": "44de4a24",
   "metadata": {},
   "outputs": [
    {
     "data": {
      "text/plain": [
       "True"
      ]
     },
     "execution_count": 59,
     "metadata": {},
     "output_type": "execute_result"
    }
   ],
   "source": [
    "bool('a') # explained in Boolean section"
   ]
  },
  {
   "cell_type": "code",
   "execution_count": 60,
   "id": "2ce5922a",
   "metadata": {},
   "outputs": [
    {
     "data": {
      "text/plain": [
       "False"
      ]
     },
     "execution_count": 60,
     "metadata": {},
     "output_type": "execute_result"
    }
   ],
   "source": [
    "bool(0) # explained in Boolean section"
   ]
  },
  {
   "cell_type": "code",
   "execution_count": 61,
   "id": "574c9aec",
   "metadata": {},
   "outputs": [
    {
     "data": {
      "text/plain": [
       "True"
      ]
     },
     "execution_count": 61,
     "metadata": {},
     "output_type": "execute_result"
    }
   ],
   "source": [
    "bool(0.1) # explained in Boolean section"
   ]
  },
  {
   "cell_type": "markdown",
   "id": "6edfbb83",
   "metadata": {},
   "source": [
    "## 2 Control flow"
   ]
  },
  {
   "cell_type": "markdown",
   "id": "365342fc",
   "metadata": {},
   "source": [
    "### 2.1: Range"
   ]
  },
  {
   "cell_type": "code",
   "execution_count": 70,
   "id": "53b54ce7",
   "metadata": {},
   "outputs": [
    {
     "data": {
      "text/plain": [
       "range(0, 5)"
      ]
     },
     "execution_count": 70,
     "metadata": {},
     "output_type": "execute_result"
    }
   ],
   "source": [
    "range(5) # returns range type with given parameters, Range type generates a sequence of integers by defining a start and the end point "
   ]
  },
  {
   "cell_type": "code",
   "execution_count": 68,
   "id": "430e141a",
   "metadata": {},
   "outputs": [
    {
     "data": {
      "text/plain": [
       "range"
      ]
     },
     "execution_count": 68,
     "metadata": {},
     "output_type": "execute_result"
    }
   ],
   "source": [
    "type(range(5))"
   ]
  },
  {
   "cell_type": "markdown",
   "id": "a0b3d5d2",
   "metadata": {},
   "source": [
    "### 2.2: For loops"
   ]
  },
  {
   "cell_type": "code",
   "execution_count": 72,
   "id": "620b1a50",
   "metadata": {},
   "outputs": [
    {
     "name": "stdout",
     "output_type": "stream",
     "text": [
      "0\n",
      "1\n",
      "2\n",
      "3\n",
      "4\n",
      "5\n",
      "6\n",
      "7\n",
      "8\n",
      "9\n",
      "10\n",
      "11\n",
      "12\n",
      "13\n",
      "14\n",
      "15\n",
      "16\n",
      "17\n",
      "18\n",
      "19\n",
      "20\n",
      "21\n",
      "22\n",
      "23\n",
      "24\n",
      "25\n",
      "26\n",
      "27\n",
      "28\n",
      "29\n",
      "30\n",
      "31\n",
      "32\n",
      "33\n",
      "34\n",
      "35\n",
      "36\n",
      "37\n",
      "38\n",
      "39\n",
      "40\n",
      "41\n",
      "42\n",
      "43\n",
      "44\n",
      "45\n",
      "46\n",
      "47\n",
      "48\n",
      "49\n",
      "50\n",
      "51\n",
      "52\n",
      "53\n",
      "54\n",
      "55\n",
      "56\n",
      "57\n",
      "58\n",
      "59\n",
      "60\n",
      "61\n",
      "62\n",
      "63\n",
      "64\n",
      "65\n",
      "66\n",
      "67\n",
      "68\n",
      "69\n",
      "70\n",
      "71\n",
      "72\n",
      "73\n",
      "74\n",
      "75\n",
      "76\n",
      "77\n",
      "78\n",
      "79\n",
      "80\n",
      "81\n",
      "82\n",
      "83\n",
      "84\n",
      "85\n",
      "86\n",
      "87\n",
      "88\n",
      "89\n",
      "90\n",
      "91\n",
      "92\n",
      "93\n",
      "94\n",
      "95\n",
      "96\n",
      "97\n",
      "98\n",
      "99\n"
     ]
    }
   ],
   "source": [
    "for i in range(101):print(i)"
   ]
  },
  {
   "cell_type": "code",
   "execution_count": 74,
   "id": "fd6502ef",
   "metadata": {},
   "outputs": [
    {
     "name": "stdout",
     "output_type": "stream",
     "text": [
      "0\n",
      "7\n",
      "14\n",
      "21\n",
      "28\n",
      "35\n",
      "42\n",
      "49\n",
      "56\n",
      "63\n",
      "70\n",
      "77\n",
      "84\n",
      "91\n",
      "98\n"
     ]
    }
   ],
   "source": [
    "for i in range(101):\n",
    "    if i % 7 == 0: print(i)"
   ]
  },
  {
   "cell_type": "code",
   "execution_count": 93,
   "id": "fbace121",
   "metadata": {},
   "outputs": [
    {
     "name": "stdout",
     "output_type": "stream",
     "text": [
      "5\n",
      "10\n",
      "20\n",
      "25\n",
      "35\n",
      "40\n",
      "50\n",
      "55\n",
      "65\n",
      "70\n",
      "80\n",
      "85\n",
      "95\n",
      "100\n"
     ]
    }
   ],
   "source": [
    "for i in range(1,101):\n",
    "    if i % 5 == 0 and i % 3 != 0: print(i)"
   ]
  },
  {
   "cell_type": "code",
   "execution_count": 89,
   "id": "9900f827",
   "metadata": {},
   "outputs": [
    {
     "name": "stdout",
     "output_type": "stream",
     "text": [
      "18\n",
      "2\n",
      "3\n",
      "6\n",
      "9\n"
     ]
    }
   ],
   "source": [
    "x = int(input())\n",
    "for i in range(2, x):\n",
    "    if x % i == 0:\n",
    "        print(i)\n",
    "# output '18' comes from jupyter notebooks standart input"
   ]
  },
  {
   "cell_type": "markdown",
   "id": "1f825edd",
   "metadata": {},
   "source": [
    "### 2.3: Simple while loops"
   ]
  },
  {
   "cell_type": "code",
   "execution_count": 92,
   "id": "c3eeaa2d",
   "metadata": {},
   "outputs": [
    {
     "name": "stdout",
     "output_type": "stream",
     "text": [
      "1\n",
      "2\n",
      "3\n",
      "4\n",
      "5\n",
      "6\n",
      "7\n",
      "8\n",
      "9\n",
      "10\n",
      "11\n",
      "12\n",
      "13\n",
      "14\n",
      "15\n",
      "16\n",
      "17\n",
      "18\n",
      "19\n",
      "20\n",
      "21\n",
      "22\n",
      "23\n",
      "24\n",
      "25\n",
      "26\n",
      "27\n",
      "28\n",
      "29\n",
      "30\n",
      "31\n",
      "32\n",
      "33\n",
      "34\n",
      "35\n",
      "36\n",
      "37\n",
      "38\n",
      "39\n",
      "40\n",
      "41\n",
      "42\n",
      "43\n",
      "44\n",
      "45\n",
      "46\n",
      "47\n",
      "48\n",
      "49\n",
      "50\n",
      "51\n",
      "52\n",
      "53\n",
      "54\n",
      "55\n",
      "56\n",
      "57\n",
      "58\n",
      "59\n",
      "60\n",
      "61\n",
      "62\n",
      "63\n",
      "64\n",
      "65\n",
      "66\n",
      "67\n",
      "68\n",
      "69\n",
      "70\n",
      "71\n",
      "72\n",
      "73\n",
      "74\n",
      "75\n",
      "76\n",
      "77\n",
      "78\n",
      "79\n",
      "80\n",
      "81\n",
      "82\n",
      "83\n",
      "84\n",
      "85\n",
      "86\n",
      "87\n",
      "88\n",
      "89\n",
      "90\n",
      "91\n",
      "92\n",
      "93\n",
      "94\n",
      "95\n",
      "96\n",
      "97\n",
      "98\n",
      "99\n",
      "100\n"
     ]
    }
   ],
   "source": [
    "i = 1\n",
    "while i < 101: \n",
    "    print(i)\n",
    "    i+=1"
   ]
  },
  {
   "cell_type": "code",
   "execution_count": 94,
   "id": "57399c56",
   "metadata": {},
   "outputs": [
    {
     "name": "stdout",
     "output_type": "stream",
     "text": [
      "7\n",
      "14\n",
      "21\n",
      "28\n",
      "35\n",
      "42\n",
      "49\n",
      "56\n",
      "63\n",
      "70\n",
      "77\n",
      "84\n",
      "91\n",
      "98\n"
     ]
    }
   ],
   "source": [
    "i = 1\n",
    "while i < 101:\n",
    "    if i % 7 == 0:\n",
    "        print(i)\n",
    "    i+=1"
   ]
  },
  {
   "cell_type": "markdown",
   "id": "5f21fc88",
   "metadata": {},
   "source": [
    "### 2.4: Hangman update 1"
   ]
  },
  {
   "cell_type": "code",
   "execution_count": null,
   "id": "456f67e2",
   "metadata": {},
   "outputs": [],
   "source": [
    "# inside for loop we can set a system as follows:\n",
    "    if i == 0:\n",
    "         return 'e'\n",
    "    elif i == 1:\n",
    "         return 'a'\n",
    "    else:\n",
    "        return input()\n",
    "# in this way first 2 guess will be automaticly assigned from us but not others"
   ]
  },
  {
   "cell_type": "markdown",
   "id": "5976c891",
   "metadata": {},
   "source": [
    "### 2.5: While loops"
   ]
  },
  {
   "cell_type": "code",
   "execution_count": 120,
   "id": "bc99097d",
   "metadata": {},
   "outputs": [
    {
     "name": "stdout",
     "output_type": "stream",
     "text": [
      "0\n",
      "385\n",
      "770\n",
      "1155\n",
      "1540\n",
      "1925\n",
      "2310\n",
      "2695\n",
      "3080\n",
      "3465\n",
      "3850\n",
      "4235\n",
      "4620\n",
      "5005\n",
      "5390\n",
      "5775\n",
      "6160\n",
      "6545\n",
      "6930\n",
      "7315\n"
     ]
    }
   ],
   "source": [
    "n = 20\n",
    "nFound = 0\n",
    "i = 0\n",
    "while nFound < n:\n",
    "    if i % 5 == 0 and i % 7 == 0 and i % 11 == 0:\n",
    "        nFound += 1\n",
    "        print(i)\n",
    "    i += 1"
   ]
  },
  {
   "cell_type": "markdown",
   "id": "23570d64",
   "metadata": {},
   "source": [
    "### 2.6: More while loops"
   ]
  },
  {
   "cell_type": "code",
   "execution_count": 121,
   "id": "2e3ea5f6",
   "metadata": {},
   "outputs": [
    {
     "name": "stdout",
     "output_type": "stream",
     "text": [
      "2520\n"
     ]
    }
   ],
   "source": [
    "numberfound = False\n",
    "x = 1\n",
    "while (numberfound == False):\n",
    "    if (x%1==0 and x%2==0 and x%3==0 and x%4==0 and x%5==0 and x%6==0 and x%7==0 and x%8 ==0 and x%9 == 0 and x%10==0):\n",
    "            print(x)\n",
    "            numberfound = True\n",
    "    x += 1"
   ]
  },
  {
   "cell_type": "markdown",
   "id": "0d815424",
   "metadata": {},
   "source": [
    "### 2.7: Collatz sequence"
   ]
  },
  {
   "cell_type": "code",
   "execution_count": 122,
   "id": "5f5e119a",
   "metadata": {},
   "outputs": [
    {
     "name": "stdout",
     "output_type": "stream",
     "text": [
      "103\n",
      "310\n",
      "155\n",
      "466\n",
      "233\n",
      "700\n",
      "350\n",
      "175\n",
      "526\n",
      "263\n",
      "790\n",
      "395\n",
      "1186\n",
      "593\n",
      "1780\n",
      "890\n",
      "445\n",
      "1336\n",
      "668\n",
      "334\n",
      "167\n",
      "502\n",
      "251\n",
      "754\n",
      "377\n",
      "1132\n",
      "566\n",
      "283\n",
      "850\n",
      "425\n",
      "1276\n",
      "638\n",
      "319\n",
      "958\n",
      "479\n",
      "1438\n",
      "719\n",
      "2158\n",
      "1079\n",
      "3238\n",
      "1619\n",
      "4858\n",
      "2429\n",
      "7288\n",
      "3644\n",
      "1822\n",
      "911\n",
      "2734\n",
      "1367\n",
      "4102\n",
      "2051\n",
      "6154\n",
      "3077\n",
      "9232\n",
      "4616\n",
      "2308\n",
      "1154\n",
      "577\n",
      "1732\n",
      "866\n",
      "433\n",
      "1300\n",
      "650\n",
      "325\n",
      "976\n",
      "488\n",
      "244\n",
      "122\n",
      "61\n",
      "184\n",
      "92\n",
      "46\n",
      "23\n",
      "70\n",
      "35\n",
      "106\n",
      "53\n",
      "160\n",
      "80\n",
      "40\n",
      "20\n",
      "10\n",
      "5\n",
      "16\n",
      "8\n",
      "4\n",
      "2\n",
      "1\n"
     ]
    }
   ],
   "source": [
    "x = int(input())\n",
    "while x != 1:\n",
    "    if x % 2 == 0: x /= 2\n",
    "    else: x = 3 * x + 1 \n",
    "    print(int(x))"
   ]
  },
  {
   "cell_type": "markdown",
   "id": "2a3a8f64",
   "metadata": {},
   "source": [
    "## 3 Functions"
   ]
  },
  {
   "cell_type": "markdown",
   "id": "77e913e2",
   "metadata": {},
   "source": [
    "### 3.1: Hello"
   ]
  },
  {
   "cell_type": "code",
   "execution_count": 125,
   "id": "a5599c72",
   "metadata": {},
   "outputs": [
    {
     "name": "stdout",
     "output_type": "stream",
     "text": [
      "Hello, world!\n"
     ]
    }
   ],
   "source": [
    "def func():\n",
    "    print('Hello, world!')\n",
    "    \n",
    "func()"
   ]
  },
  {
   "cell_type": "code",
   "execution_count": null,
   "id": "11f62b9b",
   "metadata": {},
   "outputs": [],
   "source": [
    "def func(name):\n",
    "    print('Hello, {}!'.format(name))\n",
    "    \n",
    "func('Erinc')"
   ]
  },
  {
   "cell_type": "code",
   "execution_count": null,
   "id": "84125fbd",
   "metadata": {},
   "outputs": [],
   "source": [
    "# as it sounds when we use 'return' it returns the variable that we give after. Where 'print' is a function that prints the given variables to terminal."
   ]
  },
  {
   "cell_type": "markdown",
   "id": "c8a0d944",
   "metadata": {},
   "source": [
    "### 3.2: Polynomial"
   ]
  },
  {
   "cell_type": "code",
   "execution_count": 134,
   "id": "c9e1c91e",
   "metadata": {},
   "outputs": [
    {
     "name": "stdout",
     "output_type": "stream",
     "text": [
      "12\n"
     ]
    }
   ],
   "source": [
    "def func(x):\n",
    "    return (3 * x**2 - x + 2)\n",
    "\n",
    "print(func(2))"
   ]
  },
  {
   "cell_type": "markdown",
   "id": "80863009",
   "metadata": {},
   "source": [
    "### 3.3: Maximum"
   ]
  },
  {
   "cell_type": "code",
   "execution_count": 140,
   "id": "cacfd664",
   "metadata": {},
   "outputs": [
    {
     "name": "stdout",
     "output_type": "stream",
     "text": [
      "4\n"
     ]
    }
   ],
   "source": [
    "def  my_max(x, y):\n",
    "    if x > y: return x\n",
    "    else: return y\n",
    "\n",
    "print(my_max(3, 4))"
   ]
  },
  {
   "cell_type": "code",
   "execution_count": 139,
   "id": "eb65e038",
   "metadata": {},
   "outputs": [
    {
     "name": "stdout",
     "output_type": "stream",
     "text": [
      "4\n"
     ]
    }
   ],
   "source": [
    "def my_max(x, y):\n",
    "        if x > y: return x\n",
    "        if y >= x: return y\n",
    "        \n",
    "print(my_max(3, 4))"
   ]
  },
  {
   "cell_type": "markdown",
   "id": "82ffc77d",
   "metadata": {},
   "source": [
    "### 3.4: Primes"
   ]
  },
  {
   "cell_type": "code",
   "execution_count": 142,
   "id": "00eb2689",
   "metadata": {},
   "outputs": [
    {
     "name": "stdout",
     "output_type": "stream",
     "text": [
      "True\n"
     ]
    }
   ],
   "source": [
    "def is_prime(n):\n",
    "    k = True\n",
    "    for i in range(2, n):\n",
    "        if n % i == 0: k = False\n",
    "    if k: return True\n",
    "    else: return False\n",
    "    \n",
    "print(is_prime(13))"
   ]
  },
  {
   "cell_type": "code",
   "execution_count": 146,
   "id": "106eadeb",
   "metadata": {},
   "outputs": [
    {
     "name": "stdout",
     "output_type": "stream",
     "text": [
      "True\n"
     ]
    }
   ],
   "source": [
    "def is_prime(n):\n",
    "    if n % 6 != 5 or n % 6 != 1:    \n",
    "        k = True\n",
    "        for i in range(2, n):\n",
    "            if n % i == 0: k = False\n",
    "        if k: return True\n",
    "    else: return False\n",
    "    \n",
    "print(is_prime(13))"
   ]
  },
  {
   "cell_type": "code",
   "execution_count": 151,
   "id": "c8107a03",
   "metadata": {},
   "outputs": [
    {
     "name": "stdout",
     "output_type": "stream",
     "text": [
      "[1, 2, 3, 5, 7, 11, 13]\n"
     ]
    }
   ],
   "source": [
    "def func(x):\n",
    "    answ = []\n",
    "    for n in range(1, x + 1):\n",
    "        if n % 6 != 5 or n % 6 != 1:    \n",
    "            k = True\n",
    "            for i in range(2, n):\n",
    "                if n % i == 0: k = False\n",
    "            if k: answ.append(n)\n",
    "    return answ\n",
    "                \n",
    "print(func(15))"
   ]
  },
  {
   "cell_type": "code",
   "execution_count": 160,
   "id": "95441450",
   "metadata": {},
   "outputs": [
    {
     "name": "stdout",
     "output_type": "stream",
     "text": [
      "[1, 2, 3, 5, 7, 11, 13, 17, 19, 23, 29, 31, 37, 41, 43]\n",
      "15\n"
     ]
    }
   ],
   "source": [
    "def func(x):\n",
    "    answ = []\n",
    "    n = 1\n",
    "    n_found = 0\n",
    "    while n_found < x:\n",
    "        if n % 6 != 5 or n % 6 != 1:    \n",
    "            k = True\n",
    "            for i in range(2, n):\n",
    "                if n % i == 0: k = False\n",
    "            if k:\n",
    "                answ.append(n)\n",
    "                n_found += 1\n",
    "        n += 1\n",
    "    return answ\n",
    "                \n",
    "print(func(15))\n",
    "print(len(func(15)))"
   ]
  },
  {
   "cell_type": "markdown",
   "id": "d5920412",
   "metadata": {},
   "source": [
    "### 3.5: Root finding"
   ]
  },
  {
   "cell_type": "code",
   "execution_count": null,
   "id": "c929dab9",
   "metadata": {},
   "outputs": [],
   "source": [
    "def root(f, a, b):\n",
    "    if (f(a) == f(b)): return f(a)"
   ]
  },
  {
   "cell_type": "code",
   "execution_count": null,
   "id": "88a44eb1",
   "metadata": {},
   "outputs": [],
   "source": [
    "def root(f, a, b):\n",
    "    if (f(a) == f(b)): return f(a)"
   ]
  },
  {
   "cell_type": "code",
   "execution_count": null,
   "id": "b9376b2d",
   "metadata": {},
   "outputs": [],
   "source": [
    "def root(f, a, b):\n",
    "    if f(a) > 0 and f(b) > 0: print (\"function evals have the same sign\")\n",
    "    elif f(a) < 0 and f(b) < 0:print (\"function evals have the same sign\")\n",
    "    elif (f(a) == f(b)): return f(a)"
   ]
  }
 ],
 "metadata": {
  "kernelspec": {
   "display_name": "Python 3 (ipykernel)",
   "language": "python",
   "name": "python3"
  },
  "language_info": {
   "codemirror_mode": {
    "name": "ipython",
    "version": 3
   },
   "file_extension": ".py",
   "mimetype": "text/x-python",
   "name": "python",
   "nbconvert_exporter": "python",
   "pygments_lexer": "ipython3",
   "version": "3.10.0"
  }
 },
 "nbformat": 4,
 "nbformat_minor": 5
}
